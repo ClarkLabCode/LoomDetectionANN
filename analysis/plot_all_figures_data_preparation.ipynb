{
 "cells": [
  {
   "cell_type": "code",
   "execution_count": 14,
   "metadata": {},
   "outputs": [],
   "source": [
    "# %matplotlib inline\n",
    "# %matplotlib widget\n",
    "# %matplotlib notebook\n",
    "\n",
    "import warnings\n",
    "warnings.filterwarnings(action='ignore')\n",
    "\n",
    "import sys\n",
    "sys.path.append('../stimulus_core/')\n",
    "sys.path.append('../models_core/')\n",
    "sys.path.append('../helper/')\n",
    "\n",
    "import os\n",
    "import numpy as np\n",
    "import tensorflow as tf\n",
    "import random\n",
    "import matplotlib as mpl\n",
    "import matplotlib.pyplot as plt\n",
    "import matplotlib.gridspec as gridspec\n",
    "from matplotlib.patches import Circle\n",
    "import seaborn as sns\n",
    "from  matplotlib.colors import LinearSegmentedColormap\n",
    "from mpl_toolkits.mplot3d import Axes3D\n",
    "from scipy.spatial.transform import Rotation as R3d\n",
    "import imageio\n",
    "import time\n",
    "import importlib\n",
    "import glob\n",
    "from scipy.ndimage import gaussian_filter\n",
    "from sklearn.manifold import TSNE\n",
    "from sklearn.cluster import KMeans\n",
    "from sklearn.decomposition import PCA\n",
    "from sklearn.metrics.pairwise import cosine_similarity\n",
    "from sklearn import metrics\n",
    "from scipy.spatial import distance_matrix, distance\n",
    "from scipy.cluster import hierarchy\n",
    "from PIL import Image\n",
    "from time import sleep\n",
    "import matplotlib.animation as animation\n",
    "from IPython.display import HTML\n",
    "from IPython.display import clear_output\n",
    "\n",
    "import dynamics_3d as dn3d\n",
    "import optical_signal as opsg\n",
    "import predefined_weights as pdwt\n",
    "import samples_generation_multi_units as smgnmu\n",
    "import flow_field as flfd\n",
    "import helper_functions as hpfn\n",
    "import get_Klapoetke_stimuli as gKs"
   ]
  },
  {
   "cell_type": "code",
   "execution_count": 15,
   "metadata": {},
   "outputs": [],
   "source": [
    "figure_path = '/Volumes/Baohua/research/loom_detection/results/final_figures_for_paper/'\n",
    "if not os.path.exists(figure_path):\n",
    "    os.makedirs(figure_path)\n",
    "    "
   ]
  },
  {
   "cell_type": "markdown",
   "metadata": {},
   "source": [
    "# Model Clustering\n",
    "\n",
    "Here, we cluster the model with respective the trained excitatory and inhibitory weights."
   ]
  },
  {
   "cell_type": "code",
   "execution_count": 3,
   "metadata": {},
   "outputs": [],
   "source": [
    "# Generate folders that will store the results of the clustering\n",
    "\n",
    "has_inhibition = True\n",
    "save_path = figure_path+'model_clustering/'\n",
    "if not os.path.exists(save_path+'trained_filters/'):\n",
    "    os.makedirs(save_path+'trained_filters/')\n",
    "if not os.path.exists(save_path+'clusterings/'):\n",
    "    os.makedirs(save_path+'clusterings/')\n",
    "if not os.path.exists(save_path+'auc_scores/'):\n",
    "    os.makedirs(save_path+'auc_scores/')"
   ]
  },
  {
   "cell_type": "code",
   "execution_count": 68,
   "metadata": {},
   "outputs": [],
   "source": [
    "# Load the data, one needs to change M that represents number of units in the model\n",
    "\n",
    "M = 1\n",
    "# result_folder = '/Volumes/Baohua/research_large_files/multi_lplc2_training_D5_i2/\\\n",
    "# set_{}_R1.0/inhibitory2/ACT_0_0.001/'.format(np.int(1000+M))\n",
    "result_folder = f'/Volumes/Baohua/research_large_files/multi_lplc2_training_D5/\\\n",
    "M_{M}/lr_0.001/regu_0.0001/'\n",
    "\n",
    "subdir_all = []\n",
    "for subdir, dirs, files in os.walk(result_folder):\n",
    "    subdir_all.append(subdir)\n",
    "subdir_all.pop(0)\n",
    "filename = save_path+'clusterings/subdir_all_M{}'.format(M)\n",
    "np.save(filename, subdir_all)\n"
   ]
  },
  {
   "cell_type": "code",
   "execution_count": 69,
   "metadata": {},
   "outputs": [
    {
     "name": "stdout",
     "output_type": "stream",
     "text": [
      "[1 2 3 4 5]\n"
     ]
    }
   ],
   "source": [
    "# The hierachical clustering is used for the cluster.\n",
    "\n",
    "effective_weights = np.concatenate((np.arange(4, 8), np.arange(14, 22), np.arange(25, 35), \\\n",
    "                                    np.arange(37, 47), np.arange(48, 72))) # for getting rid of corners\n",
    "trained_weights_e_all = []\n",
    "trained_weights_i_all = []\n",
    "auc_scores = []\n",
    "loss_output_all = []\n",
    "y_scores = []\n",
    "y_trues = []\n",
    "for subdir in subdir_all:\n",
    "    if os.path.exists(subdir+'/auc_roc.npy'):\n",
    "        trained_weights_e = np.load(subdir+'/trained_weights_e.npy')\n",
    "        auc_pr = np.load(subdir+'/auc_pr.npy')\n",
    "        auc_roc = np.load(subdir+'/auc_roc.npy')\n",
    "        y_score = np.load(subdir+'/y_pred_test.npy')\n",
    "        y_true = np.load(subdir+'/y_true_test.npy')\n",
    "        loss_output = np.load(subdir+'/train_loss_output.npy')\n",
    "        trained_weights_e_all.append(trained_weights_e)\n",
    "        auc_scores.append([auc_pr, auc_roc])\n",
    "        y_scores.append(y_score)\n",
    "        y_trues.append(y_true)\n",
    "        loss_output_all.append(loss_output)\n",
    "        if has_inhibition:\n",
    "            trained_weights_i = np.load(subdir+'/trained_weights_i.npy')\n",
    "            trained_weights_i_all.append(trained_weights_i)\n",
    "trained_weights_e_all = np.array(trained_weights_e_all)[:, :, 0]\n",
    "trained_weights_e_all_c = np.array(trained_weights_e_all)[:, effective_weights]\n",
    "auc_scores = np.array(auc_scores)\n",
    "y_scores = np.array(y_scores)\n",
    "y_trues = np.array(y_trues)\n",
    "loss_output_all = np.array(loss_output_all)\n",
    "if has_inhibition:\n",
    "    trained_weights_i_all = np.array(trained_weights_i_all)[:, :, 0]\n",
    "    trained_weights_i_all_c = np.array(trained_weights_i_all)[:, effective_weights]\n",
    "    trained_weights_all_c = np.concatenate((trained_weights_e_all_c, trained_weights_i_all_c), axis=1)\n",
    "else:\n",
    "    trained_weights_all_c = trained_weights_e_all_c\n",
    "\n",
    "cos_similarity = cosine_similarity(trained_weights_all_c, trained_weights_all_c)\n",
    "cos_similarity = np.clip(cos_similarity, 0., 1.)\n",
    "cos_distance = 1-cos_similarity\n",
    "\n",
    "trained_weights_all_s = np.zeros_like(trained_weights_all_c)\n",
    "for ii in range(trained_weights_all_c.shape[0]):\n",
    "    trained_weights_all_s[ii, :] = trained_weights_all_c[ii, :]+1e-30\n",
    "\n",
    "threshold = 0.2\n",
    "Z = hierarchy.linkage(trained_weights_all_s[:, :], metric='cosine')\n",
    "C = hierarchy.fcluster(Z, threshold, criterion=\"distance\")\n",
    "print(np.unique(C))\n",
    "NC = len(np.unique(C))"
   ]
  },
  {
   "cell_type": "code",
   "execution_count": 70,
   "metadata": {
    "scrolled": false
   },
   "outputs": [
    {
     "name": "stdout",
     "output_type": "stream",
     "text": [
      "Cluster label:  1 Cluster size:  3\n"
     ]
    },
    {
     "data": {
      "image/png": "[encoded data removed]",
      "text/plain": [
       "<Figure size 3456x57.6 with 12 Axes>"
      ]
     },
     "metadata": {
      "needs_background": "light"
     },
     "output_type": "display_data"
    },
    {
     "name": "stdout",
     "output_type": "stream",
     "text": [
      "Cluster label:  2 Cluster size:  2\n"
     ]
    },
    {
     "data": {
      "image/png": "[encoded data removed]",
      "text/plain": [
       "<Figure size 3456x57.6 with 8 Axes>"
      ]
     },
     "metadata": {
      "needs_background": "light"
     },
     "output_type": "display_data"
    },
    {
     "name": "stdout",
     "output_type": "stream",
     "text": [
      "Cluster label:  3 Cluster size:  40\n"
     ]
    },
    {
     "data": {
      "image/png": "[encoded data removed]",
      "text/plain": [
       "<Figure size 3456x57.6 with 120 Axes>"
      ]
     },
     "metadata": {
      "needs_background": "light"
     },
     "output_type": "display_data"
    },
    {
     "name": "stdout",
     "output_type": "stream",
     "text": [
      "Cluster label:  4 Cluster size:  60\n"
     ]
    },
    {
     "data": {
      "image/png": "[encoded data removed]",
      "text/plain": [
       "<Figure size 3456x57.6 with 120 Axes>"
      ]
     },
     "metadata": {
      "needs_background": "light"
     },
     "output_type": "display_data"
    },
    {
     "name": "stdout",
     "output_type": "stream",
     "text": [
      "Cluster label:  5 Cluster size:  95\n"
     ]
    },
    {
     "data": {
      "image/png": "[encoded data removed]",
      "text/plain": [
       "<Figure size 3456x57.6 with 120 Axes>"
      ]
     },
     "metadata": {
      "needs_background": "light"
     },
     "output_type": "display_data"
    },
    {
     "data": {
      "image/png": "[encoded data removed]",
      "text/plain": [
       "<Figure size 360x360 with 5 Axes>"
      ]
     },
     "metadata": {
      "needs_background": "light"
     },
     "output_type": "display_data"
    }
   ],
   "source": [
    "# Visualize the clustered weights to examine them by eyes.\n",
    "\n",
    "importlib.reload(hpfn)\n",
    "\n",
    "K = 12\n",
    "n_sample = 30 # the largest number of sample weights to show for each cluster\n",
    "mask_d = opsg.get_disk_mask(K, 4)\n",
    "if has_inhibition:\n",
    "    colormap_e = LinearSegmentedColormap.from_list('wr', ['w', 'r'], N=256)\n",
    "else:\n",
    "    colormap_e = LinearSegmentedColormap.from_list('bwr', ['b', 'w', 'r'], N=256)\n",
    "colormap_i = LinearSegmentedColormap.from_list('wb', ['w', 'b'], N=256)\n",
    "for label in range(1, NC+1):\n",
    "    print('Cluster label: ', label, 'Cluster size: ', (C==label).sum())\n",
    "    sample_array = np.where(C==label)[0]\n",
    "    sample_list = list(sample_array[:n_sample])\n",
    "    fig = hpfn.display_weights(K, trained_weights_e_all, trained_weights_i_all, has_inhibition, sample_list, n_sample, mask_d, colormap_e, colormap_i)\n",
    "    filename = save_path+'trained_filters/filters_M{}_{}.pdf'.format(M, label)\n",
    "    fig.savefig(filename, bbox_inches='tight')\n",
    "    \n",
    "    \n",
    "# check left and right half of the filters\n",
    "left_right_compare = np.zeros(len(C))\n",
    "left_right_compare_unique = np.zeros(NC)\n",
    "fig = plt.figure(figsize=(NC, 5))\n",
    "gs0 = gridspec.GridSpec(1, NC, figure=fig)\n",
    "for label in range(1, NC+1):\n",
    "    sample_array = np.where(C==label)[0]\n",
    "    sample_list = list(sample_array[:])\n",
    "    for sample in sample_list:\n",
    "        trained_weight_e = trained_weights_e_all[sample].reshape((K, K))\n",
    "        trained_weight_e[mask_d] = 0\n",
    "        trained_weight_e[trained_weight_e<1e-3] = 0\n",
    "        trained_weight_e_left = (trained_weight_e[:, :6]>1e-4).sum()\n",
    "        trained_weight_e_right = (trained_weight_e[:, 6:]>1e-4).sum()\n",
    "#         trained_weight_e_left = trained_weight_e[:, :6].sum()\n",
    "#         trained_weight_e_right = trained_weight_e[:, 6:].sum()\n",
    "        if trained_weight_e_left == trained_weight_e_right:\n",
    "            left_right_compare[sample] = -1\n",
    "        elif trained_weight_e_left < trained_weight_e_right:\n",
    "            left_right_compare[sample] = 1\n",
    "        elif trained_weight_e_left > trained_weight_e_right:\n",
    "            left_right_compare[sample] = 0\n",
    "        ax = fig.add_subplot(gs0[0, label-1])\n",
    "        ax.plot([1, 2], [trained_weight_e_left, trained_weight_e_right], 'o-')\n",
    "        ax.set_title(label)\n",
    "    left_right_compare_unique[label-1] = np.round(left_right_compare[sample_list].mean())"
   ]
  },
  {
   "cell_type": "code",
   "execution_count": 71,
   "metadata": {},
   "outputs": [
    {
     "name": "stdout",
     "output_type": "stream",
     "text": [
      "Outward: 43\n",
      "Inward: 62\n",
      "Unstructured: 95\n"
     ]
    }
   ],
   "source": [
    "# Check the model cluster size: 1--outward, 0--inward, -1--unstructured\n",
    "\n",
    "print(f'Outward: {(left_right_compare == 1).sum()}')\n",
    "print(f'Inward: {(left_right_compare == 0).sum()}')\n",
    "print(f'Unstructured: {(left_right_compare == -1).sum()}')"
   ]
  },
  {
   "cell_type": "code",
   "execution_count": 72,
   "metadata": {},
   "outputs": [],
   "source": [
    "# 'm': outward; 'g': inward; 'k': others/unstructured\n",
    "\n",
    "color_dict_tem = {}\n",
    "color_dict_tem[1] = 'm'\n",
    "color_dict_tem[0] = 'g'\n",
    "color_dict_tem[-1] = 'k'\n",
    "\n",
    "color_list = [color_dict_tem[ii] for ii in list(left_right_compare)]\n",
    "color_list_unique = [color_dict_tem[ii] for ii in list(left_right_compare_unique)]\n",
    "# print(color_list)\n",
    "# print(color_list_unique)"
   ]
  },
  {
   "cell_type": "code",
   "execution_count": 73,
   "metadata": {},
   "outputs": [
    {
     "name": "stdout",
     "output_type": "stream",
     "text": [
      "The M value is:  1\n",
      "Total cases are:  200\n",
      "The number of outward cases are:  43\n",
      "The number of inward cases are:  62\n"
     ]
    }
   ],
   "source": [
    "# save the clustering results\n",
    "\n",
    "# trained weights for clustering\n",
    "filename = save_path+'clusterings/trained_weights_all_c_M{}'.format(M)\n",
    "np.save(filename, trained_weights_all_c)\n",
    "\n",
    "# hierarchical linkage\n",
    "filename = save_path+'clusterings/Z_M{}'.format(M)\n",
    "np.save(filename, Z)\n",
    "\n",
    "# clusters\n",
    "filename = save_path+'clusterings/C_M{}'.format(M)\n",
    "np.save(filename, C)\n",
    "\n",
    "# color list\n",
    "filename = save_path+'clusterings/color_list_M{}'.format(M)\n",
    "np.save(filename, color_list)\n",
    "\n",
    "# color list unique\n",
    "filename = save_path+'clusterings/color_list_unique_M{}'.format(M)\n",
    "np.save(filename, color_list_unique)\n",
    "\n",
    "# label dict\n",
    "label_dict = {}\n",
    "label_dict['m'] = []\n",
    "label_dict['g'] = []\n",
    "label_dict['k'] = []\n",
    "for jj in range(len(C)):\n",
    "    if color_list[jj] == 'm':\n",
    "        label_dict['m'].append(jj)\n",
    "    elif color_list[jj] == 'g':\n",
    "        label_dict['g'].append(jj)\n",
    "    elif color_list[jj] == 'k':\n",
    "        label_dict['k'].append(jj)\n",
    "filename = save_path+'clusterings/label_dict_M{}'.format(M)\n",
    "np.save(filename, label_dict)\n",
    "\n",
    "# the cluster size\n",
    "total_cases = len(C)\n",
    "outward_cases = len(label_dict['m'])\n",
    "inward_cases = len(label_dict['g'])\n",
    "cluster_size = np.array([M, total_cases, outward_cases, inward_cases])\n",
    "filename = save_path+'clusterings/cluster_size_M{}'.format(M)\n",
    "np.save(filename, cluster_size)\n",
    "print('The M value is: ', M)\n",
    "print('Total cases are: ', total_cases)\n",
    "print('The number of outward cases are: ', outward_cases)\n",
    "print('The number of inward cases are: ', inward_cases)\n",
    "\n",
    "# model folders\n",
    "model_folders_outward = []\n",
    "model_folders_inward = []\n",
    "model_folders_others = []\n",
    "for jj in range(len(C)):\n",
    "    if color_list[jj] == 'm':\n",
    "        model_folders_outward.append(subdir_all[jj])\n",
    "    elif color_list[jj] == 'g':\n",
    "        model_folders_inward.append(subdir_all[jj])\n",
    "    elif color_list[jj] == 'k':\n",
    "        model_folders_others.append(subdir_all[jj])\n",
    "model_folders = [model_folders_outward, model_folders_inward, model_folders_others]\n",
    "filename = save_path+'clusterings/model_folders_M{}'.format(M)\n",
    "np.save(filename, model_folders)"
   ]
  },
  {
   "cell_type": "code",
   "execution_count": 74,
   "metadata": {},
   "outputs": [],
   "source": [
    "# save the auc scores\n",
    "auc_scores_outward = auc_scores[label_dict['m'], :]\n",
    "auc_scores_inward = auc_scores[label_dict['g'], :]\n",
    "filename = save_path+'auc_scores/auc_scores_M{}'.format(M)\n",
    "np.save(filename, auc_scores)\n",
    "filename = save_path+'auc_scores/auc_scores_outward_M{}'.format(M)\n",
    "np.save(filename, auc_scores_outward)\n",
    "filename = save_path+'auc_scores/auc_scores_inward_M{}'.format(M)\n",
    "np.save(filename, auc_scores_inward)\n",
    "\n",
    "# save the y scores\n",
    "y_scores_outward = y_scores[label_dict['m'], :]\n",
    "y_scores_inward = y_scores[label_dict['g'], :]\n",
    "filename = save_path+'auc_scores/y_scores_M{}'.format(M)\n",
    "np.save(filename, y_scores)\n",
    "filename = save_path+'auc_scores/y_scores_outward_M{}'.format(M)\n",
    "np.save(filename, y_scores_outward)\n",
    "filename = save_path+'auc_scores/y_scores_inward_M{}'.format(M)\n",
    "np.save(filename, y_scores_inward)\n",
    "\n",
    "# save the y trues\n",
    "y_trues_outward = y_trues[label_dict['m'], :]\n",
    "y_trues_inward = y_trues[label_dict['g'], :]\n",
    "filename = save_path+'auc_scores/y_trues_M{}'.format(M)\n",
    "np.save(filename, y_trues)\n",
    "filename = save_path+'auc_scores/y_trues_outward_M{}'.format(M)\n",
    "np.save(filename, y_trues_outward)\n",
    "filename = save_path+'auc_scores/y_trues_inward_M{}'.format(M)\n",
    "np.save(filename, y_trues_inward)"
   ]
  },
  {
   "cell_type": "markdown",
   "metadata": {},
   "source": [
    "# Response vs distance\n",
    "\n",
    "Here, we look at reponses of the trained models."
   ]
  },
  {
   "cell_type": "code",
   "execution_count": 13,
   "metadata": {},
   "outputs": [],
   "source": [
    "if not os.path.exists(figure_path+'response_vs_distance/'):\n",
    "    os.makedirs(figure_path+'response_vs_distance/')"
   ]
  },
  {
   "cell_type": "code",
   "execution_count": 12,
   "metadata": {},
   "outputs": [
    {
     "ename": "KeyboardInterrupt",
     "evalue": "",
     "output_type": "error",
     "traceback": [
      "\u001b[0;31m---------------------------------------------------------------------------\u001b[0m",
      "\u001b[0;31mKeyboardInterrupt\u001b[0m                         Traceback (most recent call last)",
      "\u001b[0;32m<ipython-input-12-7c5cb944460e>\u001b[0m in \u001b[0;36m<module>\u001b[0;34m\u001b[0m\n\u001b[1;32m     35\u001b[0m \u001b[0mmodel_path\u001b[0m \u001b[0;34m=\u001b[0m \u001b[0mmodel_folders\u001b[0m\u001b[0;34m[\u001b[0m\u001b[0;36m0\u001b[0m\u001b[0;34m]\u001b[0m\u001b[0;34m[\u001b[0m\u001b[0;36m0\u001b[0m\u001b[0;34m]\u001b[0m\u001b[0;34m+\u001b[0m\u001b[0;34m'/'\u001b[0m\u001b[0;34m\u001b[0m\u001b[0;34m\u001b[0m\u001b[0m\n\u001b[1;32m     36\u001b[0m \u001b[0mdata_type\u001b[0m \u001b[0;34m=\u001b[0m \u001b[0mdata_types\u001b[0m\u001b[0;34m[\u001b[0m\u001b[0;36m0\u001b[0m\u001b[0;34m]\u001b[0m\u001b[0;34m\u001b[0m\u001b[0;34m\u001b[0m\u001b[0m\n\u001b[0;32m---> 37\u001b[0;31m \u001b[0mres_max_all_hit_n\u001b[0m\u001b[0;34m,\u001b[0m \u001b[0mres_T_all_hit_n\u001b[0m\u001b[0;34m,\u001b[0m \u001b[0mangles_all_hit_n\u001b[0m\u001b[0;34m,\u001b[0m \u001b[0msteps_hit_n\u001b[0m\u001b[0;34m,\u001b[0m \u001b[0mdistances_all_hit_n\u001b[0m \u001b[0;34m=\u001b[0m \u001b[0mhpfn\u001b[0m\u001b[0;34m.\u001b[0m\u001b[0mgenerate_response_multiunit\u001b[0m\u001b[0;34m(\u001b[0m\u001b[0margs\u001b[0m\u001b[0;34m,\u001b[0m \u001b[0mmodel_path\u001b[0m\u001b[0;34m,\u001b[0m \u001b[0mmodel_type\u001b[0m\u001b[0;34m,\u001b[0m \u001b[0mdata_path\u001b[0m\u001b[0;34m,\u001b[0m \u001b[0mdata_type\u001b[0m\u001b[0;34m)\u001b[0m\u001b[0;34m\u001b[0m\u001b[0;34m\u001b[0m\u001b[0m\n\u001b[0m\u001b[1;32m     38\u001b[0m \u001b[0msave_file\u001b[0m \u001b[0;34m=\u001b[0m \u001b[0mfigure_path\u001b[0m\u001b[0;34m+\u001b[0m\u001b[0;34m'response_vs_distance/'\u001b[0m\u001b[0;34m+\u001b[0m\u001b[0;34m'results'\u001b[0m\u001b[0;34m+\u001b[0m\u001b[0;34m'_'\u001b[0m\u001b[0;34m+\u001b[0m\u001b[0mfilter_type\u001b[0m\u001b[0;34m+\u001b[0m\u001b[0;34m'_'\u001b[0m\u001b[0;34m+\u001b[0m\u001b[0mdata_type\u001b[0m\u001b[0;34m+\u001b[0m\u001b[0;34m'_M{}'\u001b[0m\u001b[0;34m.\u001b[0m\u001b[0mformat\u001b[0m\u001b[0;34m(\u001b[0m\u001b[0mM\u001b[0m\u001b[0;34m)\u001b[0m\u001b[0;34m\u001b[0m\u001b[0;34m\u001b[0m\u001b[0m\n\u001b[1;32m     39\u001b[0m \u001b[0mnp\u001b[0m\u001b[0;34m.\u001b[0m\u001b[0msavez\u001b[0m\u001b[0;34m(\u001b[0m\u001b[0msave_file\u001b[0m\u001b[0;34m,\u001b[0m \u001b[0mres_max_all_hit_n\u001b[0m\u001b[0;34m,\u001b[0m \u001b[0mres_T_all_hit_n\u001b[0m\u001b[0;34m,\u001b[0m \u001b[0mangles_all_hit_n\u001b[0m\u001b[0;34m,\u001b[0m \u001b[0msteps_hit_n\u001b[0m\u001b[0;34m,\u001b[0m \u001b[0mdistances_all_hit_n\u001b[0m\u001b[0;34m)\u001b[0m\u001b[0;34m\u001b[0m\u001b[0;34m\u001b[0m\u001b[0m\n",
      "\u001b[0;32m~/Google Drive/research/loom_detection/helper/helper_functions.py\u001b[0m in \u001b[0;36mgenerate_response_multiunit\u001b[0;34m(args, model_path, model_type, data_path, data_type, subtract_baseline, K)\u001b[0m\n\u001b[1;32m   2086\u001b[0m     \u001b[0msteps\u001b[0m \u001b[0;34m=\u001b[0m \u001b[0;36m0\u001b[0m\u001b[0;34m\u001b[0m\u001b[0;34m\u001b[0m\u001b[0m\n\u001b[1;32m   2087\u001b[0m     \u001b[0;32mfor\u001b[0m \u001b[0ms\u001b[0m \u001b[0;32min\u001b[0m \u001b[0mrange\u001b[0m\u001b[0;34m(\u001b[0m\u001b[0mS\u001b[0m\u001b[0;34m)\u001b[0m\u001b[0;34m:\u001b[0m\u001b[0;34m\u001b[0m\u001b[0;34m\u001b[0m\u001b[0m\n\u001b[0;32m-> 2088\u001b[0;31m         \u001b[0mUV_flow_sample_list\u001b[0m \u001b[0;34m=\u001b[0m \u001b[0mnp\u001b[0m\u001b[0;34m.\u001b[0m\u001b[0mload\u001b[0m\u001b[0;34m(\u001b[0m\u001b[0mpath_uv\u001b[0m\u001b[0;34m+\u001b[0m\u001b[0;34m'UV_flow_sample_list_{}.npy'\u001b[0m\u001b[0;34m.\u001b[0m\u001b[0mformat\u001b[0m\u001b[0;34m(\u001b[0m\u001b[0ms\u001b[0m\u001b[0;34m+\u001b[0m\u001b[0;36m1\u001b[0m\u001b[0;34m)\u001b[0m\u001b[0;34m,\u001b[0m \u001b[0mallow_pickle\u001b[0m\u001b[0;34m=\u001b[0m\u001b[0;32mTrue\u001b[0m\u001b[0;34m)\u001b[0m\u001b[0;34m\u001b[0m\u001b[0;34m\u001b[0m\u001b[0m\n\u001b[0m\u001b[1;32m   2089\u001b[0m         \u001b[0mtraj_list\u001b[0m \u001b[0;34m=\u001b[0m \u001b[0mnp\u001b[0m\u001b[0;34m.\u001b[0m\u001b[0mload\u001b[0m\u001b[0;34m(\u001b[0m\u001b[0mpath_traj\u001b[0m\u001b[0;34m+\u001b[0m\u001b[0;34m'traj_list_{}.npy'\u001b[0m\u001b[0;34m.\u001b[0m\u001b[0mformat\u001b[0m\u001b[0;34m(\u001b[0m\u001b[0ms\u001b[0m\u001b[0;34m+\u001b[0m\u001b[0;36m1\u001b[0m\u001b[0;34m)\u001b[0m\u001b[0;34m,\u001b[0m \u001b[0mallow_pickle\u001b[0m\u001b[0;34m=\u001b[0m\u001b[0;32mTrue\u001b[0m\u001b[0;34m)\u001b[0m\u001b[0;34m\u001b[0m\u001b[0;34m\u001b[0m\u001b[0m\n\u001b[1;32m   2090\u001b[0m         \u001b[0mdistance_list\u001b[0m \u001b[0;34m=\u001b[0m \u001b[0mnp\u001b[0m\u001b[0;34m.\u001b[0m\u001b[0mload\u001b[0m\u001b[0;34m(\u001b[0m\u001b[0mpath_distance\u001b[0m\u001b[0;34m+\u001b[0m\u001b[0;34m'distance_list_{}.npy'\u001b[0m\u001b[0;34m.\u001b[0m\u001b[0mformat\u001b[0m\u001b[0;34m(\u001b[0m\u001b[0ms\u001b[0m\u001b[0;34m+\u001b[0m\u001b[0;36m1\u001b[0m\u001b[0;34m)\u001b[0m\u001b[0;34m,\u001b[0m \u001b[0mallow_pickle\u001b[0m\u001b[0;34m=\u001b[0m\u001b[0;32mTrue\u001b[0m\u001b[0;34m)\u001b[0m\u001b[0;34m\u001b[0m\u001b[0;34m\u001b[0m\u001b[0m\n",
      "\u001b[0;32m~/anaconda3/lib/python3.7/site-packages/numpy/lib/npyio.py\u001b[0m in \u001b[0;36mload\u001b[0;34m(file, mmap_mode, allow_pickle, fix_imports, encoding)\u001b[0m\n\u001b[1;32m    445\u001b[0m             \u001b[0;32melse\u001b[0m\u001b[0;34m:\u001b[0m\u001b[0;34m\u001b[0m\u001b[0;34m\u001b[0m\u001b[0m\n\u001b[1;32m    446\u001b[0m                 return format.read_array(fid, allow_pickle=allow_pickle,\n\u001b[0;32m--> 447\u001b[0;31m                                          pickle_kwargs=pickle_kwargs)\n\u001b[0m\u001b[1;32m    448\u001b[0m         \u001b[0;32melse\u001b[0m\u001b[0;34m:\u001b[0m\u001b[0;34m\u001b[0m\u001b[0;34m\u001b[0m\u001b[0m\n\u001b[1;32m    449\u001b[0m             \u001b[0;31m# Try a pickle\u001b[0m\u001b[0;34m\u001b[0m\u001b[0;34m\u001b[0m\u001b[0;34m\u001b[0m\u001b[0m\n",
      "\u001b[0;32m~/anaconda3/lib/python3.7/site-packages/numpy/lib/format.py\u001b[0m in \u001b[0;36mread_array\u001b[0;34m(fp, allow_pickle, pickle_kwargs)\u001b[0m\n\u001b[1;32m    699\u001b[0m             \u001b[0mpickle_kwargs\u001b[0m \u001b[0;34m=\u001b[0m \u001b[0;34m{\u001b[0m\u001b[0;34m}\u001b[0m\u001b[0;34m\u001b[0m\u001b[0;34m\u001b[0m\u001b[0m\n\u001b[1;32m    700\u001b[0m         \u001b[0;32mtry\u001b[0m\u001b[0;34m:\u001b[0m\u001b[0;34m\u001b[0m\u001b[0;34m\u001b[0m\u001b[0m\n\u001b[0;32m--> 701\u001b[0;31m             \u001b[0marray\u001b[0m \u001b[0;34m=\u001b[0m \u001b[0mpickle\u001b[0m\u001b[0;34m.\u001b[0m\u001b[0mload\u001b[0m\u001b[0;34m(\u001b[0m\u001b[0mfp\u001b[0m\u001b[0;34m,\u001b[0m \u001b[0;34m**\u001b[0m\u001b[0mpickle_kwargs\u001b[0m\u001b[0;34m)\u001b[0m\u001b[0;34m\u001b[0m\u001b[0;34m\u001b[0m\u001b[0m\n\u001b[0m\u001b[1;32m    702\u001b[0m         \u001b[0;32mexcept\u001b[0m \u001b[0mUnicodeError\u001b[0m \u001b[0;32mas\u001b[0m \u001b[0merr\u001b[0m\u001b[0;34m:\u001b[0m\u001b[0;34m\u001b[0m\u001b[0;34m\u001b[0m\u001b[0m\n\u001b[1;32m    703\u001b[0m             \u001b[0;32mif\u001b[0m \u001b[0msys\u001b[0m\u001b[0;34m.\u001b[0m\u001b[0mversion_info\u001b[0m\u001b[0;34m[\u001b[0m\u001b[0;36m0\u001b[0m\u001b[0;34m]\u001b[0m \u001b[0;34m>=\u001b[0m \u001b[0;36m3\u001b[0m\u001b[0;34m:\u001b[0m\u001b[0;34m\u001b[0m\u001b[0;34m\u001b[0m\u001b[0m\n",
      "\u001b[0;31mKeyboardInterrupt\u001b[0m: "
     ]
    }
   ],
   "source": [
    "importlib.reload(hpfn)\n",
    "\n",
    "M = 32\n",
    "data_path = figure_path+'model_clustering/clusterings/'\n",
    "model_folders = np.load(data_path+'model_folders_M{}.npy'.format(M), allow_pickle=True)\n",
    "\n",
    "# model\n",
    "args = {}\n",
    "args[\"n\"] = 0\n",
    "args[\"dt\"] = 0.03\n",
    "args[\"use_intensity\"] = False\n",
    "args[\"symmetrize\"] = True\n",
    "args['K'] = 12\n",
    "args['alpha_leak'] = 0.0\n",
    "args['M'] = M\n",
    "args['temporal_filter'] = False\n",
    "args['tau_1'] = 1.\n",
    "\n",
    "set_number = np.int(1000+M)\n",
    "data_path = '/Volumes/Baohua/data_on_hd/loom/multi_lplc2_scal200_D5/set_{}/'.format(set_number)\n",
    "data_types = ['hit', 'miss', 'retreat', 'rotation']\n",
    "\n",
    "model_types = ['excitatory', 'excitatory_WNR', 'inhibitory1', 'inhibitory2']\n",
    "filter_types = ['outward', 'inward']\n",
    "model_type = model_types[3]\n",
    "\n",
    "dt = 0.01\n",
    "sample_dt = 0.03\n",
    "bin_size_a = 5\n",
    "bin_size_d = 0.2\n",
    "max_angle = 180\n",
    "\n",
    "# outward\n",
    "filter_type = filter_types[0]\n",
    "model_path = model_folders[0][0]+'/'\n",
    "data_type = data_types[0]\n",
    "res_max_all_hit_n, res_T_all_hit_n, angles_all_hit_n, steps_hit_n, distances_all_hit_n = hpfn.generate_response_multiunit(args, model_path, model_type, data_path, data_type)\n",
    "save_file = figure_path+'response_vs_distance/'+'results'+'_'+filter_type+'_'+data_type+'_M{}'.format(M)\n",
    "np.savez(save_file, res_max_all_hit_n, res_T_all_hit_n, angles_all_hit_n, steps_hit_n, distances_all_hit_n)\n",
    "data_type = data_types[1]\n",
    "res_max_all_miss_n, res_T_all_miss_n, angles_all_miss_n, steps_miss_n, distances_all_miss_n = hpfn.generate_response_multiunit(args, model_path, model_type, data_path, data_type)\n",
    "save_file = figure_path+'response_vs_distance/'+'results'+'_'+filter_type+'_'+data_type+'_M{}'.format(M)\n",
    "np.savez(save_file, res_max_all_miss_n, res_T_all_miss_n, angles_all_miss_n, steps_miss_n, distances_all_miss_n)\n",
    "data_type = data_types[2]\n",
    "res_max_all_retreat_n, res_T_all_retreat_n, angles_all_retreat_n, steps_retreat_n, distances_all_retreat_n = hpfn.generate_response_multiunit(args, model_path, model_type, data_path, data_type)\n",
    "save_file = figure_path+'response_vs_distance/'+'results'+'_'+filter_type+'_'+data_type+'_M{}'.format(M)\n",
    "np.savez(save_file, res_max_all_retreat_n, res_T_all_retreat_n, angles_all_retreat_n, steps_retreat_n, distances_all_retreat_n)\n",
    "\n",
    "res_heatmap_hit_n = hpfn.generate_heatmap_multiunit_dist(res_T_all_hit_n, angles_all_hit_n, distances_all_hit_n, bin_size_a, bin_size_d, max_angle, dt, sample_dt)\n",
    "res_heatmap_miss_n = hpfn.generate_heatmap_multiunit_dist(res_T_all_miss_n, angles_all_miss_n, distances_all_miss_n, bin_size_a, bin_size_d, max_angle, dt, sample_dt)\n",
    "res_heatmap_retreat_n = hpfn.generate_heatmap_multiunit_dist(res_T_all_retreat_n, angles_all_retreat_n, distances_all_retreat_n, bin_size_a, bin_size_d, max_angle, dt, sample_dt)\n",
    "save_file = figure_path+'response_vs_distance/'+'heatmap'+'_'+filter_type+'_M{}'.format(M)\n",
    "np.savez(save_file, res_heatmap_hit_n, res_heatmap_miss_n, res_heatmap_retreat_n)\n",
    "\n",
    "# inward\n",
    "filter_type = filter_types[1]\n",
    "model_path = model_folders[1][0]+'/'\n",
    "data_type = data_types[0]\n",
    "res_max_all_hit_r, res_T_all_hit_r, angles_all_hit_r, steps_hit_r, distances_all_hit_r = hpfn.generate_response_multiunit(args, model_path, model_type, data_path, data_type)\n",
    "save_file = figure_path+'response_vs_distance/'+'results'+'_'+filter_type+'_'+data_type+'_M{}'.format(M)\n",
    "np.savez(save_file, res_max_all_hit_r, res_T_all_hit_r, angles_all_hit_r, steps_hit_r, distances_all_hit_r)\n",
    "data_type = data_types[1]\n",
    "res_max_all_miss_r, res_T_all_miss_r, angles_all_miss_r, steps_miss_r, distances_all_miss_r = hpfn.generate_response_multiunit(args, model_path, model_type, data_path, data_type)\n",
    "save_file = figure_path+'response_vs_distance/'+'results'+'_'+filter_type+'_'+data_type+'_M{}'.format(M)\n",
    "np.savez(save_file, res_max_all_miss_r, res_T_all_miss_r, angles_all_miss_r, steps_miss_r, distances_all_miss_r)\n",
    "data_type = data_types[2]\n",
    "res_max_all_retreat_r, res_T_all_retreat_r, angles_all_retreat_r, steps_retreat_r, distances_all_retreat_r = hpfn.generate_response_multiunit(args, model_path, model_type, data_path, data_type)\n",
    "save_file = figure_path+'response_vs_distance/'+'results'+'_'+filter_type+'_'+data_type+'_M{}'.format(M)\n",
    "np.savez(save_file, res_max_all_retreat_r, res_T_all_retreat_r, angles_all_retreat_r, steps_retreat_r, distances_all_retreat_r)\n",
    "\n",
    "res_heatmap_hit_r = hpfn.generate_heatmap_multiunit_dist(res_T_all_hit_r, angles_all_hit_r, distances_all_hit_r, bin_size_a, bin_size_d, max_angle, dt, sample_dt)\n",
    "res_heatmap_miss_r = hpfn.generate_heatmap_multiunit_dist(res_T_all_miss_r, angles_all_miss_r, distances_all_miss_r, bin_size_a, bin_size_d, max_angle, dt, sample_dt)\n",
    "res_heatmap_retreat_r = hpfn.generate_heatmap_multiunit_dist(res_T_all_retreat_r, angles_all_retreat_r, distances_all_retreat_r, bin_size_a, bin_size_d, max_angle, dt, sample_dt)\n",
    "save_file = figure_path+'response_vs_distance/'+'heatmap'+'_'+filter_type+'_M{}'.format(M)\n",
    "np.savez(save_file, res_heatmap_hit_r, res_heatmap_miss_r, res_heatmap_retreat_r)\n",
    "\n"
   ]
  },
  {
   "cell_type": "markdown",
   "metadata": {},
   "source": [
    "# Sparse and dense response"
   ]
  },
  {
   "cell_type": "code",
   "execution_count": 24,
   "metadata": {},
   "outputs": [],
   "source": [
    "importlib.reload(hpfn)\n",
    "\n",
    "if not os.path.exists(figure_path+'sparse_and_dense/'):\n",
    "    os.makedirs(figure_path+'sparse_and_dense/')\n",
    "\n",
    "for M in [1, 2, 4, 8, 16, 32, 64, 128, 192, 256]:\n",
    "    K = 12\n",
    "    L = 4\n",
    "    KK = K**2\n",
    "    pad = 2*L\n",
    "    NNs = 10\n",
    "    set_number = np.int(1000+M)\n",
    "    data_path = figure_path+'model_clustering/clusterings/'\n",
    "    model_folders = np.load(data_path+'model_folders_M{}.npy'.format(M), allow_pickle=True)\n",
    "    data_path = '/Volumes/Baohua/data_on_hd/loom/multi_lplc2_scal200_D5/set_{}/'.format(set_number)\n",
    "    data_types = ['hit', 'miss', 'retreat', 'rotation']\n",
    "\n",
    "    args = {}\n",
    "    args[\"n\"] = 0\n",
    "    args[\"dt\"] = 0.03\n",
    "    args[\"use_intensity\"] = False\n",
    "    args[\"symmetrize\"] = True\n",
    "    args['K'] = 12\n",
    "    args['alpha_leak'] = 0.0\n",
    "    args['M'] = M\n",
    "    args['temporal_filter'] = False\n",
    "    args['tau_1'] = 1.\n",
    "    model_types = ['excitatory', 'excitatory_WNR', 'inhibitory1', 'inhibitory2', 'linear']\n",
    "    model_type = model_types[3]\n",
    "\n",
    "    filter_types = ['outward', 'inward']\n",
    "\n",
    "    for ind, filter_type in enumerate(filter_types):\n",
    "\n",
    "        model_path = model_folders[ind][0]+'/'\n",
    "        prob_mean_ = []\n",
    "        prob_max_ = []\n",
    "        prob_all_ = []\n",
    "        res_T_all_ = []\n",
    "        dist_min_ = []\n",
    "        prob_rest_ = []\n",
    "        res_rest_ = []\n",
    "        for data_type in data_types:\n",
    "            prob_mean_tem = []\n",
    "            prob_max_tem = []\n",
    "            prob_all_tem = []\n",
    "            res_T_all_tem = []\n",
    "            dist_min_tem = []\n",
    "            if data_type == 'hit':\n",
    "                snn1 = 0\n",
    "                snn2 = 1000\n",
    "                pre_N = 0\n",
    "            elif data_type == 'miss':\n",
    "                snn1 = 0\n",
    "                snn2 = 500\n",
    "                pre_N = 0\n",
    "            elif data_type == 'retreat':\n",
    "                snn1 = 0\n",
    "                snn2 = 500\n",
    "                pre_N = 0\n",
    "            elif data_type == 'rotation':\n",
    "                snn1 = 0\n",
    "                snn2 = 2000\n",
    "                pre_N = 0\n",
    "            for sn in range(snn1, snn2):\n",
    "                # load data\n",
    "                sample_number = sn\n",
    "                sample_list_number = np.int((pre_N+sample_number)//NNs+1)\n",
    "                path = data_path+'training'+'/'+data_type+'/'\n",
    "                UV_flow_sample_list = np.load(path+'UV_flow_samples/UV_flow_sample_list_{}.npy'.format(sample_list_number), allow_pickle=True)\n",
    "                UV_flow_sample = UV_flow_sample_list[sample_number%NNs-1]\n",
    "                if data_type == 'miss':\n",
    "                    path_dist = data_path+'other_info'+'/'+data_type+'/'+'distances/'\n",
    "                    dist_list = np.load(path_dist+'distance_list_{}.npy'.format(sample_list_number), allow_pickle=True)\n",
    "                    dist = dist_list[sample_number%NNs-1]\n",
    "                    dist_min_tem.append(dist.min())\n",
    "                elif data_type == 'hit':\n",
    "                    dist_min_tem.append(0.)\n",
    "                elif data_type == 'retreat':\n",
    "                    dist_min_tem.append(7.)\n",
    "                else:\n",
    "                    dist_min_tem.append(6.)\n",
    "\n",
    "                # get res and prob\n",
    "                res_rest, res_T, prob, prob_rest = hpfn.get_response_over_time(args, model_path, model_type, UV_flow_sample)\n",
    "                res_T_all_tem.append(res_T)\n",
    "                prob_mean_tem.append(prob.mean())\n",
    "                prob_max_tem.append(prob.max())\n",
    "                prob_all_tem.append(prob)\n",
    "\n",
    "            dist_min_.append(dist_min_tem)\n",
    "            res_T_all_.append(res_T_all_tem)\n",
    "            prob_mean_.append(prob_mean_tem)\n",
    "            prob_max_.append(prob_max_tem)\n",
    "            prob_all_.append(prob_all_tem)\n",
    "            prob_rest_.append(prob_rest)\n",
    "            res_rest_.append(res_rest)\n",
    "\n",
    "        save_file = figure_path+'sparse_and_dense/'+'results'+'_'+filter_type+'_M{}'.format(M)\n",
    "        np.savez(save_file, dist_min_, res_T_all_, res_rest_, prob_mean_, prob_max_, prob_all_, prob_rest_)\n",
    "\n",
    "\n"
   ]
  },
  {
   "cell_type": "code",
   "execution_count": 27,
   "metadata": {},
   "outputs": [],
   "source": [
    "importlib.reload(hpfn)\n",
    "\n",
    "## Sparse and dense activity\n",
    "sparse_dense_hit_out = []\n",
    "sparse_dense_miss_out = []\n",
    "sparse_dense_retreat_out = []\n",
    "sparse_dense_rotation_out = []\n",
    "sparse_dense_hit_in = []\n",
    "sparse_dense_miss_in = []\n",
    "sparse_dense_retreat_in = []\n",
    "sparse_dense_rotation_in = []\n",
    "\n",
    "M_list = [1, 2, 4, 8, 16, 32, 64, 128, 192, 256]\n",
    "M_list_np = np.array(M_list)\n",
    "filter_types = ['outward', 'inward']\n",
    "\n",
    "for M in M_list:\n",
    "    ## outward\n",
    "    filter_type = filter_types[0]\n",
    "    save_file = figure_path+'sparse_and_dense/'+'results'+'_'+filter_type+'_M{}.npz'.format(M)\n",
    "    loaded_file = np.load(save_file, allow_pickle=True)\n",
    "    dist_min_n = loaded_file['arr_0']\n",
    "    res_T_all_n = loaded_file['arr_1']\n",
    "    res_rest_n = loaded_file['arr_2']\n",
    "    prob_mean_n = loaded_file['arr_3']\n",
    "    # hit\n",
    "    data_type_ind = 0\n",
    "    M_active = hpfn.get_sparsity(M, res_T_all_n, res_rest_n, data_type_ind)\n",
    "    sparse_dense_hit_out.append(M_active)\n",
    "    # miss\n",
    "    data_type_ind = 1\n",
    "    M_active = hpfn.get_sparsity(M, res_T_all_n, res_rest_n, data_type_ind)\n",
    "    sparse_dense_miss_out.append(M_active)\n",
    "    # retreat\n",
    "    data_type_ind = 2\n",
    "    M_active = hpfn.get_sparsity(M, res_T_all_n, res_rest_n, data_type_ind)\n",
    "    sparse_dense_retreat_out.append(M_active)\n",
    "    # rotation\n",
    "    data_type_ind = 3\n",
    "    M_active = hpfn.get_sparsity(M, res_T_all_n, res_rest_n, data_type_ind)\n",
    "    sparse_dense_rotation_out.append(M_active)\n",
    "\n",
    "    ## inward\n",
    "    filter_type = filter_types[1]\n",
    "    save_file = figure_path+'sparse_and_dense/'+'results'+'_'+filter_type+'_M{}.npz'.format(M)\n",
    "    loaded_file = np.load(save_file, allow_pickle=True)\n",
    "    dist_min_r = loaded_file['arr_0']\n",
    "    res_T_all_r = loaded_file['arr_1']\n",
    "    res_rest_r = loaded_file['arr_2']\n",
    "    prob_mean_r = loaded_file['arr_3']\n",
    "    # hit\n",
    "    data_type_ind = 0\n",
    "    M_active = hpfn.get_sparsity(M, res_T_all_r, res_rest_r, data_type_ind)\n",
    "    sparse_dense_hit_in.append(M_active)\n",
    "    # miss\n",
    "    data_type_ind = 1\n",
    "    M_active = hpfn.get_sparsity(M, res_T_all_r, res_rest_r, data_type_ind)\n",
    "    sparse_dense_miss_in.append(M_active)\n",
    "    # retreat\n",
    "    data_type_ind = 2\n",
    "    M_active = hpfn.get_sparsity(M, res_T_all_r, res_rest_r, data_type_ind)\n",
    "    sparse_dense_retreat_in.append(M_active)\n",
    "    # rotation\n",
    "    data_type_ind = 3\n",
    "    M_active = hpfn.get_sparsity(M, res_T_all_r, res_rest_r, data_type_ind)\n",
    "    sparse_dense_rotation_in.append(M_active)\n",
    "\n",
    "sparse_dense_hit_out = np.array(sparse_dense_hit_out)\n",
    "sparse_dense_miss_out = np.array(sparse_dense_miss_out)\n",
    "sparse_dense_retreat_out = np.array(sparse_dense_retreat_out)\n",
    "sparse_dense_rotation_out = np.array(sparse_dense_rotation_out)\n",
    "sparse_dense_hit_in = np.array(sparse_dense_hit_in)\n",
    "sparse_dense_miss_in = np.array(sparse_dense_miss_in)\n",
    "sparse_dense_retreat_in = np.array(sparse_dense_retreat_in)\n",
    "sparse_dense_rotation_in = np.array(sparse_dense_rotation_in)\n",
    "\n",
    "save_file = figure_path+'sparse_and_dense/'\n",
    "\n",
    "np.save(save_file+'sparse_dense_hit_out', sparse_dense_hit_out)\n",
    "np.save(save_file+'sparse_dense_miss_out', sparse_dense_miss_out)\n",
    "np.save(save_file+'sparse_dense_retreat_out', sparse_dense_retreat_out)\n",
    "np.save(save_file+'sparse_dense_rotation_out', sparse_dense_rotation_out)\n",
    "np.save(save_file+'sparse_dense_hit_in', sparse_dense_hit_in)\n",
    "np.save(save_file+'sparse_dense_miss_in', sparse_dense_miss_in)\n",
    "np.save(save_file+'sparse_dense_retreat_in', sparse_dense_retreat_in)\n",
    "np.save(save_file+'sparse_dense_rotation_in', sparse_dense_rotation_in)"
   ]
  },
  {
   "cell_type": "markdown",
   "metadata": {},
   "source": [
    "# Probability of hit\n",
    "\n",
    "Here, we look at the predicted probability of hit given certain models."
   ]
  },
  {
   "cell_type": "code",
   "execution_count": 3,
   "metadata": {},
   "outputs": [],
   "source": [
    "if not os.path.exists(figure_path+'probability_of_hit/'):\n",
    "    os.makedirs(figure_path+'probability_of_hit/')"
   ]
  },
  {
   "cell_type": "code",
   "execution_count": 42,
   "metadata": {},
   "outputs": [
    {
     "name": "stdout",
     "output_type": "stream",
     "text": [
      "outward /Volumes/Baohua/research_large_files/multi_lplc2_training_D5_i2/set_1032_R1.0/inhibitory2/ACT_0_0.001/False_False_102_20201221005123/\n",
      "inward /Volumes/Baohua/research_large_files/multi_lplc2_training_D5_i2/set_1032_R1.0/inhibitory2/ACT_0_0.001/False_False_108_20201221005123/\n"
     ]
    }
   ],
   "source": [
    "importlib.reload(hpfn)\n",
    "\n",
    "M = 32\n",
    "K = 12\n",
    "L = 4\n",
    "KK = K**2\n",
    "pad = 2*L\n",
    "NNs = 10\n",
    "set_number = np.int(1000+M)\n",
    "data_path = figure_path+'model_clustering/clusterings/'\n",
    "model_folders = np.load(data_path+'model_folders_M{}.npy'.format(M), allow_pickle=True)\n",
    "data_path = '/Volumes/Baohua/data_on_hd/loom/multi_lplc2_scal200_D5/set_{}/'.format(set_number)\n",
    "data_types = ['hit', 'miss', 'retreat', 'rotation']\n",
    "\n",
    "args = {}\n",
    "args[\"n\"] = 0\n",
    "args[\"dt\"] = 0.03\n",
    "args[\"use_intensity\"] = False\n",
    "args[\"symmetrize\"] = True\n",
    "args['K'] = 12\n",
    "args['alpha_leak'] = 0.0\n",
    "args['M'] = M\n",
    "args['temporal_filter'] = False\n",
    "args['tau_1'] = 1.\n",
    "model_types = ['excitatory', 'excitatory_WNR', 'inhibitory1', 'inhibitory2', 'linear']\n",
    "model_type = model_types[3]\n",
    "\n",
    "filter_types = ['outward', 'inward']\n",
    "\n",
    "for ind, filter_type in enumerate(filter_types):\n",
    "\n",
    "    model_path = model_folders[ind][0]+'/'\n",
    "    print(filter_type, model_path)\n",
    "    prob_mean_ = []\n",
    "    prob_max_ = []\n",
    "    prob_all_ = []\n",
    "    res_T_all_ = []\n",
    "    dist_min_ = []\n",
    "    prob_rest_ = []\n",
    "    for data_type in data_types:\n",
    "        prob_mean_tem = []\n",
    "        prob_max_tem = []\n",
    "        prob_all_tem = []\n",
    "        res_T_all_tem = []\n",
    "        dist_min_tem = []\n",
    "        if data_type == 'hit':\n",
    "            snn1 = 0\n",
    "            snn2 = 300\n",
    "            pre_N = 1000\n",
    "        elif data_type == 'miss':\n",
    "            snn1 = 0\n",
    "            snn2 = 150\n",
    "            pre_N = 500\n",
    "        elif data_type == 'retreat':\n",
    "            snn1 = 0\n",
    "            snn2 = 150\n",
    "            pre_N = 500\n",
    "        elif data_type == 'rotation':\n",
    "            snn1 = 0\n",
    "            snn2 = 600\n",
    "            pre_N = 2000\n",
    "        for sn in range(snn1, snn2):\n",
    "            # load data\n",
    "            sample_number = sn\n",
    "            sample_list_number = np.int((pre_N+sample_number)//NNs+1)\n",
    "            path = data_path+'testing'+'/'+data_type+'/'\n",
    "            UV_flow_sample_list = np.load(path+'UV_flow_samples/UV_flow_sample_list_{}.npy'.format(sample_list_number), allow_pickle=True)\n",
    "            UV_flow_sample = UV_flow_sample_list[sample_number%NNs-1]\n",
    "            if data_type == 'miss':\n",
    "                path_dist = data_path+'other_info'+'/'+data_type+'/'+'distances/'\n",
    "                dist_list = np.load(path_dist+'distance_list_{}.npy'.format(sample_list_number), allow_pickle=True)\n",
    "                dist = dist_list[sample_number%NNs-1]\n",
    "                dist_min_tem.append(dist.min())\n",
    "            elif data_type == 'hit':\n",
    "                dist_min_tem.append(0.)\n",
    "            elif data_type == 'retreat':\n",
    "                dist_min_tem.append(7.)\n",
    "            else:\n",
    "                dist_min_tem.append(6.)\n",
    "\n",
    "            # get res and prob\n",
    "            res_rest, res_T, prob, prob_rest = hpfn.get_response_over_time(args, model_path, model_type, UV_flow_sample)\n",
    "            res_T_all_tem.append(res_T)\n",
    "            prob_mean_tem.append(prob.mean())\n",
    "            prob_max_tem.append(prob.max())\n",
    "            prob_all_tem.append(prob)\n",
    "\n",
    "        dist_min_.append(dist_min_tem)\n",
    "        res_T_all_.append(res_T_all_tem)\n",
    "        prob_mean_.append(prob_mean_tem)\n",
    "        prob_max_.append(prob_max_tem)\n",
    "        prob_all_.append(prob_all_tem)\n",
    "        prob_rest_.append(prob_rest)\n",
    "\n",
    "    save_file = figure_path+'probability_of_hit/'+'results'+'_'+filter_type+'_M{}'.format(M)\n",
    "    np.savez(save_file, dist_min_, res_T_all_, prob_mean_, prob_max_, prob_all_, prob_rest_)\n",
    "\n",
    "\n"
   ]
  },
  {
   "cell_type": "markdown",
   "metadata": {},
   "source": [
    "# Grid response\n",
    "\n",
    "Here, we look at the responses of the trained models to a grid of incoming hit signals."
   ]
  },
  {
   "cell_type": "code",
   "execution_count": 46,
   "metadata": {},
   "outputs": [
    {
     "name": "stdout",
     "output_type": "stream",
     "text": [
      "/Volumes/Baohua/research/loom_detection/results/final_figures_for_paper/\n"
     ]
    }
   ],
   "source": [
    "if not os.path.exists(figure_path+'grid_response/'):\n",
    "    os.makedirs(figure_path+'grid_response/')\n",
    "print(figure_path)"
   ]
  },
  {
   "cell_type": "code",
   "execution_count": 76,
   "metadata": {},
   "outputs": [
    {
     "name": "stdout",
     "output_type": "stream",
     "text": [
      "/Volumes/Baohua/research_large_files/multi_lplc2_training_D5/M_256/lr_0.001/regu_0.0001/seed_156_20210619111917/\n"
     ]
    },
    {
     "ename": "KeyboardInterrupt",
     "evalue": "",
     "output_type": "error",
     "traceback": [
      "\u001b[0;31m---------------------------------------------------------------------------\u001b[0m",
      "\u001b[0;31mKeyboardInterrupt\u001b[0m                         Traceback (most recent call last)",
      "\u001b[0;32m<ipython-input-76-fc4927dd649f>\u001b[0m in \u001b[0;36m<module>\u001b[0;34m\u001b[0m\n\u001b[1;32m     83\u001b[0m         \u001b[0mfile\u001b[0m \u001b[0;34m=\u001b[0m \u001b[0mglob\u001b[0m\u001b[0;34m.\u001b[0m\u001b[0mglob\u001b[0m\u001b[0;34m(\u001b[0m\u001b[0mdata_path\u001b[0m\u001b[0;34m+\u001b[0m\u001b[0;34m'UV_flow_samples/'\u001b[0m\u001b[0;34m+\u001b[0m\u001b[0;34m'UV_flow_sample_{}_{}.npy'\u001b[0m\u001b[0;34m.\u001b[0m\u001b[0mformat\u001b[0m\u001b[0;34m(\u001b[0m\u001b[0mi\u001b[0m\u001b[0;34m+\u001b[0m\u001b[0;36m1\u001b[0m\u001b[0;34m,\u001b[0m \u001b[0mj\u001b[0m\u001b[0;34m+\u001b[0m\u001b[0;36m1\u001b[0m\u001b[0;34m)\u001b[0m\u001b[0;34m)\u001b[0m\u001b[0;34m\u001b[0m\u001b[0;34m\u001b[0m\u001b[0m\n\u001b[1;32m     84\u001b[0m         \u001b[0mUV_flow\u001b[0m \u001b[0;34m=\u001b[0m \u001b[0mnp\u001b[0m\u001b[0;34m.\u001b[0m\u001b[0mload\u001b[0m\u001b[0;34m(\u001b[0m\u001b[0mfile\u001b[0m\u001b[0;34m[\u001b[0m\u001b[0;36m0\u001b[0m\u001b[0;34m]\u001b[0m\u001b[0;34m,\u001b[0m \u001b[0mallow_pickle\u001b[0m\u001b[0;34m=\u001b[0m\u001b[0;32mTrue\u001b[0m\u001b[0;34m)\u001b[0m\u001b[0;34m[\u001b[0m\u001b[0;36m0\u001b[0m\u001b[0;34m]\u001b[0m\u001b[0;34m\u001b[0m\u001b[0;34m\u001b[0m\u001b[0m\n\u001b[0;32m---> 85\u001b[0;31m         \u001b[0mres_rest\u001b[0m\u001b[0;34m,\u001b[0m \u001b[0mres_T\u001b[0m\u001b[0;34m,\u001b[0m \u001b[0mprob\u001b[0m\u001b[0;34m,\u001b[0m \u001b[0mprob_rest\u001b[0m \u001b[0;34m=\u001b[0m \u001b[0mhpfn\u001b[0m\u001b[0;34m.\u001b[0m\u001b[0mget_response_over_time\u001b[0m\u001b[0;34m(\u001b[0m\u001b[0margs\u001b[0m\u001b[0;34m,\u001b[0m \u001b[0mmodel_path\u001b[0m\u001b[0;34m,\u001b[0m \u001b[0mmodel_type\u001b[0m\u001b[0;34m,\u001b[0m \u001b[0mUV_flow\u001b[0m\u001b[0;34m,\u001b[0m \u001b[0mintensity\u001b[0m\u001b[0;34m=\u001b[0m\u001b[0;36m0\u001b[0m\u001b[0;34m)\u001b[0m\u001b[0;34m\u001b[0m\u001b[0;34m\u001b[0m\u001b[0m\n\u001b[0m\u001b[1;32m     86\u001b[0m         \u001b[0mres_rest_tem\u001b[0m\u001b[0;34m.\u001b[0m\u001b[0mappend\u001b[0m\u001b[0;34m(\u001b[0m\u001b[0mres_rest\u001b[0m\u001b[0;34m)\u001b[0m\u001b[0;34m\u001b[0m\u001b[0;34m\u001b[0m\u001b[0m\n\u001b[1;32m     87\u001b[0m         \u001b[0mres_T_tem\u001b[0m\u001b[0;34m.\u001b[0m\u001b[0mappend\u001b[0m\u001b[0;34m(\u001b[0m\u001b[0mres_T\u001b[0m\u001b[0;34m)\u001b[0m\u001b[0;34m\u001b[0m\u001b[0;34m\u001b[0m\u001b[0m\n",
      "\u001b[0;32m~/Google Drive/research/loom_detection/helper/helper_functions.py\u001b[0m in \u001b[0;36mget_response_over_time\u001b[0;34m(args, model_path, model_type, UV_flow, intensity)\u001b[0m\n\u001b[1;32m   1449\u001b[0m     \u001b[0;32melif\u001b[0m \u001b[0mmodel_type\u001b[0m \u001b[0;34m==\u001b[0m \u001b[0;34m'inhibitory2'\u001b[0m\u001b[0;34m:\u001b[0m\u001b[0;34m\u001b[0m\u001b[0;34m\u001b[0m\u001b[0m\n\u001b[1;32m   1450\u001b[0m         res_rest, res_T, _, _, _ = get_response_with_inhibition2(\\\n\u001b[0;32m-> 1451\u001b[0;31m             args, weights_e, weights_i, intercept_e, intercept_i, UV_flow, weights_intensity, intensity)\n\u001b[0m\u001b[1;32m   1452\u001b[0m \u001b[0;34m\u001b[0m\u001b[0m\n\u001b[1;32m   1453\u001b[0m     \u001b[0mres_TM\u001b[0m \u001b[0;34m=\u001b[0m \u001b[0mres_T\u001b[0m\u001b[0;34m.\u001b[0m\u001b[0msum\u001b[0m\u001b[0;34m(\u001b[0m\u001b[0maxis\u001b[0m\u001b[0;34m=\u001b[0m\u001b[0;36m1\u001b[0m\u001b[0;34m)\u001b[0m\u001b[0;34m\u001b[0m\u001b[0;34m\u001b[0m\u001b[0m\n",
      "\u001b[0;32m~/Google Drive/research/loom_detection/helper/helper_functions.py\u001b[0m in \u001b[0;36mget_response_with_inhibition2\u001b[0;34m(args, weights_e, weights_i, intercept_e, intercept_i, UV_flow, weights_intensity, intensity)\u001b[0m\n\u001b[1;32m   1859\u001b[0m         \u001b[0;32mfor\u001b[0m \u001b[0mt\u001b[0m \u001b[0;32min\u001b[0m \u001b[0mrange\u001b[0m\u001b[0;34m(\u001b[0m\u001b[0mT\u001b[0m\u001b[0;34m)\u001b[0m\u001b[0;34m:\u001b[0m\u001b[0;34m\u001b[0m\u001b[0;34m\u001b[0m\u001b[0m\n\u001b[1;32m   1860\u001b[0m             output_t, Ie_t, Ii_t, Ii_t2 = get_output_with_inhibition2(\\\n\u001b[0;32m-> 1861\u001b[0;31m                 weights_e, weights_i, intercept_e, intercept_i, UV_flow[t], alpha_leak)\n\u001b[0m\u001b[1;32m   1862\u001b[0m             \u001b[0mres_T\u001b[0m\u001b[0;34m[\u001b[0m\u001b[0mt\u001b[0m\u001b[0;34m,\u001b[0m \u001b[0;34m:\u001b[0m\u001b[0;34m]\u001b[0m \u001b[0;34m=\u001b[0m \u001b[0moutput_t\u001b[0m\u001b[0;34m[\u001b[0m\u001b[0;34m:\u001b[0m\u001b[0;34m]\u001b[0m\u001b[0;34m\u001b[0m\u001b[0;34m\u001b[0m\u001b[0m\n\u001b[1;32m   1863\u001b[0m             \u001b[0mIe_T\u001b[0m\u001b[0;34m[\u001b[0m\u001b[0mt\u001b[0m\u001b[0;34m,\u001b[0m \u001b[0;34m:\u001b[0m\u001b[0;34m]\u001b[0m \u001b[0;34m=\u001b[0m \u001b[0mIe_t\u001b[0m\u001b[0;34m[\u001b[0m\u001b[0;34m:\u001b[0m\u001b[0;34m]\u001b[0m\u001b[0;34m\u001b[0m\u001b[0;34m\u001b[0m\u001b[0m\n",
      "\u001b[0;32m~/Google Drive/research/loom_detection/helper/helper_functions.py\u001b[0m in \u001b[0;36mget_output_with_inhibition2\u001b[0;34m(weights_e, weights_i, intercept_e, intercept_i, UV_flow_t, alpha_leak, weights_intensity, intensity_t)\u001b[0m\n\u001b[1;32m   1805\u001b[0m         \u001b[0mh2\u001b[0m \u001b[0;34m=\u001b[0m \u001b[0mget_leaky_relu\u001b[0m\u001b[0;34m(\u001b[0m\u001b[0malpha_leak\u001b[0m\u001b[0;34m,\u001b[0m \u001b[0mh2\u001b[0m\u001b[0;34m)\u001b[0m\u001b[0;34m\u001b[0m\u001b[0;34m\u001b[0m\u001b[0m\n\u001b[1;32m   1806\u001b[0m         \u001b[0mh3\u001b[0m \u001b[0;34m=\u001b[0m \u001b[0mget_leaky_relu\u001b[0m\u001b[0;34m(\u001b[0m\u001b[0malpha_leak\u001b[0m\u001b[0;34m,\u001b[0m \u001b[0mh3\u001b[0m\u001b[0;34m)\u001b[0m\u001b[0;34m\u001b[0m\u001b[0;34m\u001b[0m\u001b[0m\n\u001b[0;32m-> 1807\u001b[0;31m         \u001b[0mh4\u001b[0m \u001b[0;34m=\u001b[0m \u001b[0mget_leaky_relu\u001b[0m\u001b[0;34m(\u001b[0m\u001b[0malpha_leak\u001b[0m\u001b[0;34m,\u001b[0m \u001b[0mh4\u001b[0m\u001b[0;34m)\u001b[0m\u001b[0;34m\u001b[0m\u001b[0;34m\u001b[0m\u001b[0m\n\u001b[0m\u001b[1;32m   1808\u001b[0m         \u001b[0mIi_t\u001b[0m\u001b[0;34m[\u001b[0m\u001b[0mm\u001b[0m\u001b[0;34m]\u001b[0m \u001b[0;34m=\u001b[0m \u001b[0mh1\u001b[0m\u001b[0;34m+\u001b[0m\u001b[0mh2\u001b[0m\u001b[0;34m+\u001b[0m\u001b[0mh3\u001b[0m\u001b[0;34m+\u001b[0m\u001b[0mh4\u001b[0m\u001b[0;34m\u001b[0m\u001b[0;34m\u001b[0m\u001b[0m\n\u001b[1;32m   1809\u001b[0m         \u001b[0moutput_t\u001b[0m\u001b[0;34m[\u001b[0m\u001b[0mm\u001b[0m\u001b[0;34m]\u001b[0m \u001b[0;34m=\u001b[0m \u001b[0moutput_t\u001b[0m\u001b[0;34m[\u001b[0m\u001b[0mm\u001b[0m\u001b[0;34m]\u001b[0m \u001b[0;34m-\u001b[0m \u001b[0;34m(\u001b[0m\u001b[0mh1\u001b[0m\u001b[0;34m+\u001b[0m\u001b[0mh2\u001b[0m\u001b[0;34m+\u001b[0m\u001b[0mh3\u001b[0m\u001b[0;34m+\u001b[0m\u001b[0mh4\u001b[0m\u001b[0;34m)\u001b[0m\u001b[0;34m\u001b[0m\u001b[0;34m\u001b[0m\u001b[0m\n",
      "\u001b[0;32m~/Google Drive/research/loom_detection/helper/helper_functions.py\u001b[0m in \u001b[0;36mget_leaky_relu\u001b[0;34m(alpha_leak, x)\u001b[0m\n\u001b[1;32m   2553\u001b[0m         \u001b[0;32mreturn\u001b[0m \u001b[0mx\u001b[0m\u001b[0;34m\u001b[0m\u001b[0;34m\u001b[0m\u001b[0m\n\u001b[1;32m   2554\u001b[0m     \u001b[0;32melse\u001b[0m\u001b[0;34m:\u001b[0m\u001b[0;34m\u001b[0m\u001b[0;34m\u001b[0m\u001b[0m\n\u001b[0;32m-> 2555\u001b[0;31m         \u001b[0;32mreturn\u001b[0m \u001b[0malpha_leak\u001b[0m\u001b[0;34m*\u001b[0m\u001b[0mx\u001b[0m\u001b[0;34m\u001b[0m\u001b[0;34m\u001b[0m\u001b[0m\n\u001b[0m\u001b[1;32m   2556\u001b[0m \u001b[0;34m\u001b[0m\u001b[0m\n\u001b[1;32m   2557\u001b[0m \u001b[0;34m\u001b[0m\u001b[0m\n",
      "\u001b[0;31mKeyboardInterrupt\u001b[0m: "
     ]
    }
   ],
   "source": [
    "M = 256\n",
    "\n",
    "# response, outward filters\n",
    "model_folders = np.load(figure_path + '/model_clustering/clusterings/model_folders_M{}.npy'.format(M), \\\n",
    "                        allow_pickle=True)\n",
    "# model\n",
    "in_or_out = 0 # 0: outward; 1: inward\n",
    "args = {}\n",
    "args[\"n\"] = 0\n",
    "args[\"dt\"] = 0.03\n",
    "args[\"use_intensity\"] = False\n",
    "args[\"symmetrize\"] = True\n",
    "args['K'] = 12\n",
    "args['alpha_leak'] = 0.0\n",
    "args['M'] = M\n",
    "args['temporal_filter'] = False\n",
    "args['tau_1'] = 1.\n",
    "model_types = ['excitatory', 'excitatory_WNR', 'inhibitory1', 'inhibitory2']\n",
    "filter_types = ['outward', 'inward']\n",
    "model_type = model_types[3]\n",
    "filter_type = filter_types[in_or_out]\n",
    "model_path = model_folders[in_or_out][16]+'/'\n",
    "print(model_path)\n",
    "data_path = '/Volumes/Baohua/data_on_hd/loom/grid_conv2_M1_L100_par/'\n",
    "\n",
    "res_rest_all = []\n",
    "res_T_all = []\n",
    "prob_all = []\n",
    "prob_rest_all = []\n",
    "for i in range(31):\n",
    "    res_rest_tem = []\n",
    "    res_T_tem = []\n",
    "    prob_tem = []\n",
    "    prob_rest_tem = []\n",
    "    for j in range(72):\n",
    "        file = glob.glob(data_path+'UV_flow_samples/'+'UV_flow_sample_{}_{}.npy'.format(i+1, j+1))\n",
    "        UV_flow = np.load(file[0], allow_pickle=True)[0]\n",
    "        res_rest, res_T, prob, prob_rest = hpfn.get_response_over_time(args, model_path, model_type, UV_flow, intensity=0)\n",
    "        res_rest_tem.append(res_rest)\n",
    "        res_T_tem.append(res_T)\n",
    "        prob_tem.append(prob)\n",
    "        prob_rest_tem.append(prob_rest)\n",
    "    res_rest_all.append(res_rest_tem)\n",
    "    res_T_all.append(res_T_tem)\n",
    "    prob_all.append(prob_tem)\n",
    "    prob_rest_all.append(prob_rest_tem)\n",
    "save_file = figure_path+'grid_response/'+'results'+'_'+filter_type+'_M{}'.format(M)\n",
    "np.savez(save_file, res_rest_all, res_T_all, prob_rest_all, prob_all)\n",
    "\n",
    "\n",
    "# response, inward filters\n",
    "model_folders = np.load(figure_path + '/model_clustering/clusterings/model_folders_M{}.npy'.format(M), \\\n",
    "                        allow_pickle=True)\n",
    "# model\n",
    "in_or_out = 1 # 0: outward; 1: inward\n",
    "args = {}\n",
    "args[\"n\"] = 0\n",
    "args[\"dt\"] = 0.03\n",
    "args[\"use_intensity\"] = False\n",
    "args[\"symmetrize\"] = True\n",
    "args['K'] = 12\n",
    "args['alpha_leak'] = 0.0\n",
    "args['M'] = M\n",
    "args['temporal_filter'] = False\n",
    "args['tau_1'] = 1.\n",
    "model_types = ['excitatory', 'excitatory_WNR', 'inhibitory1', 'inhibitory2']\n",
    "filter_types = ['outward', 'inward']\n",
    "model_type = model_types[3]\n",
    "filter_type = filter_types[in_or_out]\n",
    "model_path = model_folders[in_or_out][0]+'/'\n",
    "data_path = '/Volumes/Baohua/data_on_hd/loom/grid_conv2_M1_L100_par/'\n",
    "\n",
    "res_rest_all = []\n",
    "res_T_all = []\n",
    "prob_all = []\n",
    "prob_rest_all = []\n",
    "for i in range(31):\n",
    "    res_rest_tem = []\n",
    "    res_T_tem = []\n",
    "    prob_tem = []\n",
    "    prob_rest_tem = []\n",
    "    for j in range(72):\n",
    "        file = glob.glob(data_path+'UV_flow_samples/'+'UV_flow_sample_{}_{}.npy'.format(i+1, j+1))\n",
    "        UV_flow = np.load(file[0], allow_pickle=True)[0]\n",
    "        res_rest, res_T, prob, prob_rest = hpfn.get_response_over_time(args, model_path, model_type, UV_flow, intensity=0)\n",
    "        res_rest_tem.append(res_rest)\n",
    "        res_T_tem.append(res_T)\n",
    "        prob_tem.append(prob)\n",
    "        prob_rest_tem.append(prob_rest)\n",
    "    res_rest_all.append(res_rest_tem)\n",
    "    res_T_all.append(res_T_tem)\n",
    "    prob_all.append(prob_tem)\n",
    "    prob_rest_all.append(prob_rest_tem)\n",
    "save_file = figure_path+'grid_response/'+'results'+'_'+filter_type+'_M{}'.format(M)\n",
    "np.savez(save_file, res_rest_all, res_T_all, prob_rest_all, prob_all)\n",
    "        "
   ]
  },
  {
   "cell_type": "code",
   "execution_count": 111,
   "metadata": {},
   "outputs": [
    {
     "data": {
      "text/plain": [
       "(31, 72)"
      ]
     },
     "execution_count": 111,
     "metadata": {},
     "output_type": "execute_result"
    }
   ],
   "source": [
    "np.array(prob_all).shape"
   ]
  },
  {
   "cell_type": "markdown",
   "metadata": {},
   "source": [
    "# Calculate theta\n",
    "\n",
    "Here, we calculate the incoming theta angles of the isotropic hit signals."
   ]
  },
  {
   "cell_type": "code",
   "execution_count": 20,
   "metadata": {},
   "outputs": [
    {
     "name": "stdout",
     "output_type": "stream",
     "text": [
      "/Volumes/Baohua/research/loom_detection/results/final_figures_for_paper/\n"
     ]
    }
   ],
   "source": [
    "print(figure_path)"
   ]
  },
  {
   "cell_type": "code",
   "execution_count": 21,
   "metadata": {},
   "outputs": [],
   "source": [
    "if not os.path.exists(figure_path+'theta_angles/'):\n",
    "    os.makedirs(figure_path+'theta_angles/')"
   ]
  },
  {
   "cell_type": "code",
   "execution_count": 22,
   "metadata": {},
   "outputs": [],
   "source": [
    "theta_angles = []\n",
    "for sn in range(1000):\n",
    "    # data\n",
    "    K = 12\n",
    "    L = 4\n",
    "    KK = K**2\n",
    "    pad = 2*L\n",
    "    set_number = 1001\n",
    "    NNs = 10\n",
    "    data_path = '/Volumes/Baohua/data_on_hd/loom/multi_lplc2_scal200_D5/set_{}/'.format(set_number)\n",
    "    data_types = ['hit', 'miss', 'retreat', 'rotation']\n",
    "    data_type = data_types[0]\n",
    "    sample_number = sn\n",
    "    sample_list_number = sample_number//NNs+1\n",
    "    path = data_path+'training'+'/'+data_type+'/'\n",
    "    frames_sample_cg_list = np.load(path+'frames_samples_cg/frames_sample_cg_list_{}.npy'.format(sample_list_number), allow_pickle=True)\n",
    "    UV_flow_sample_list = np.load(path+'UV_flow_samples/UV_flow_sample_list_{}.npy'.format(sample_list_number), allow_pickle=True)\n",
    "    frames_sample_cg = frames_sample_cg_list[sample_number%NNs-1]\n",
    "    UV_flow_sample = UV_flow_sample_list[sample_number%NNs-1]\n",
    "    steps = len(frames_sample_cg)\n",
    "    M = len(frames_sample_cg[0])\n",
    "\n",
    "    path_traj = data_path+'other_info'+'/'+data_type+'/'+'trajectories/'\n",
    "    path_dist = data_path+'other_info'+'/'+data_type+'/'+'distances/'\n",
    "    traj_list = np.load(path_traj+'traj_list_{}.npy'.format(sample_list_number), allow_pickle=True)\n",
    "    dist_list = np.load(path_dist+'distance_list_{}.npy'.format(sample_list_number), allow_pickle=True)\n",
    "    traj = traj_list[sample_number%NNs-1]\n",
    "    dist = dist_list[sample_number%NNs-1]\n",
    "    x, y, z = traj[-1, 0, :]\n",
    "    vec = traj[-2, 0, :]-traj[-1, 0, :]\n",
    "    angles = opsg.get_angles_between_lplc2_and_vec(M, vec)\n",
    "    theta_angles.append(angles[0])\n",
    "    \n",
    "save_file = figure_path+'theta_angles/theta_angles'\n",
    "np.save(save_file, theta_angles)"
   ]
  },
  {
   "cell_type": "markdown",
   "metadata": {},
   "source": [
    "# Replication"
   ]
  },
  {
   "cell_type": "code",
   "execution_count": 120,
   "metadata": {},
   "outputs": [],
   "source": [
    "has_inhibition = True\n",
    "if not os.path.exists(figure_path+'klap_replication/'):\n",
    "    os.mkdir(figure_path+'klap_replication/')"
   ]
  },
  {
   "cell_type": "code",
   "execution_count": 52,
   "metadata": {},
   "outputs": [
    {
     "name": "stdout",
     "output_type": "stream",
     "text": [
      "/Volumes/Baohua/research_large_files/multi_lplc2_training_D5_i2/set_1256_R1.0/inhibitory2/ACT_0_0.001/False_False_102_20201221001932/\n",
      "1.4148921966552734\n",
      "Max excitatory response of the looming disk is 3.122245792298057.\n",
      "Max inhibitory response of the looming disk is 0.7216112613677979.\n",
      "Max excitatory-inhibitory response of the looming disk is 2.4174339315722717.\n"
     ]
    }
   ],
   "source": [
    "importlib.reload(hpfn)\n",
    "\n",
    "figuretypes1 = ['2F', '3e', '3f', '4A', '4C', '4E', '4G']\n",
    "\n",
    "figuretypes2 = \\\n",
    "[['2Fa', '2Fb', '2Fc', '2Fd', '2Fe', '2Ff', '2Fg'], \\\n",
    " ['3e1', '3e2', '3e3', '3e4', '3e5', '3e6', '3e7', '3e8', '3e9', '3e10', '3e11', '3e12'], \\\n",
    " ['3f1', '3f2', '3f3', '3f4', '3f5', '3f6', '3f7', '3f8', '3f9', '3f10', '3f11', '3f12'], \\\n",
    " ['4Aa', '4Ab', '4Ac'], \\\n",
    " ['4Ca', '4Cb', '4Cc', '4Cd', '4Ce'], \\\n",
    " ['4E10', '4E20', '4E60'], \\\n",
    " ['4Ga', '4Gb', '4Gc', '4Gd', '4Ge']]\n",
    "\n",
    "labels_2F = np.zeros(7)\n",
    "labels_2F[0] = 1\n",
    "\n",
    "labels_3e = np.zeros(12)\n",
    "labels_3f = np.zeros(12)\n",
    "\n",
    "labels_4A = np.zeros(3)\n",
    "labels_4A[0] = 1\n",
    "labels_4C = np.zeros(5)\n",
    "labels_4E = np.zeros(3)\n",
    "labels_4G = np.zeros(5)\n",
    "\n",
    "labels_T = [labels_2F, labels_3e, labels_3f, labels_4A, labels_4C, labels_4E, labels_4G]\n",
    "\n",
    "ymin = -0.1\n",
    "ymax_dict = {}\n",
    "ymax_dict['3e'] = 0.4\n",
    "ymax_dict['3f'] = 1.5\n",
    "ymax_dict['4A'] = 1\n",
    "ymax_dict['4C'] = 0.3\n",
    "ymax_dict['4E'] = 0.6\n",
    "ymax_dict['4G'] = 0.1\n",
    "\n",
    "\n",
    "model_types = ['excitatory', 'excitatory_WNR', 'inhibitory1', 'inhibitory2']\n",
    "model_type = model_types[3]\n",
    "\n",
    "filter_types = ['outward', 'inward']\n",
    "filter_type = filter_types[0]\n",
    "\n",
    "M = 256\n",
    "args = {}\n",
    "args['M'] = M\n",
    "args[\"n\"] = 0\n",
    "args[\"dt\"] = 0.01\n",
    "args[\"use_intensity\"] = False\n",
    "args[\"symmetrize\"] = True\n",
    "args['K'] = 12\n",
    "args['alpha_leak'] = 0.0\n",
    "args['temporal_filter'] = False\n",
    "args['tau_1'] = 1.\n",
    "\n",
    "saved_results_path = figure_path+'model_clustering/clusterings/'\n",
    "model_folders = np.load(saved_results_path+'model_folders_M{}.npy'.format(M), allow_pickle=True)\n",
    "model_path = model_folders[0][0]+'/'\n",
    "# model_path = figure_path + 'weights_different_regu/M160/outward/'\n",
    "print(model_path)\n",
    "data_path =  '/Volumes/Baohua/data_on_hd/loom/Klapoetke_stimuli_L50_2/Klapoetke_UV_flows/2F/Klapoetke_UV_flows_2Fa.npy'\n",
    "UV_flow = np.load(data_path, allow_pickle=True)\n",
    "_, res_T_2Fa, _, _ = hpfn.get_response_over_time(args, model_path, model_type, UV_flow, intensity=0)\n",
    "res_T_2Fa_max = (res_T_2Fa-res_T_2Fa[0]).max()\n",
    "print(res_T_2Fa_max)\n",
    "\n",
    "if os.path.isdir(model_path):\n",
    "    for ind, figuretype in enumerate(figuretypes1):\n",
    "        data_path =  '/Volumes/Baohua/data_on_hd/loom/Klapoetke_stimuli_L50_2/Klapoetke_UV_flows/'+figuretype+'/'\n",
    "        UV_flow_files = [data_path+'Klapoetke_UV_flows_'+file+'.npy' for file in figuretypes2[ind]]\n",
    "        data_path = '/Volumes/Baohua/data_on_hd/loom/Klapoetke_stimuli_L50/Klapoetke_intensities_cg/'+figuretype+'/'\n",
    "        intensity_files = [data_path+'Klapoetke_intensities_cg_'+file+'.npy' for file in figuretypes2[ind]]\n",
    "\n",
    "        K = args['K']\n",
    "        alpha_leak = args['alpha_leak']\n",
    "        a = np.load(model_path + \"trained_a.npy\")\n",
    "        b = np.load(model_path + \"trained_b.npy\")\n",
    "        intercept_e = np.load(model_path + \"trained_intercept_e.npy\")\n",
    "        tau_1 = np.load(model_path + \"trained_tau_1.npy\")\n",
    "        weights_e = np.load(model_path + \"trained_weights_e.npy\")\n",
    "        if model_type == 'inhibitory1' or model_type == 'inhibitory2':\n",
    "            weights_i = np.load(model_path + \"trained_weights_i.npy\")\n",
    "            intercept_i = np.load(model_path + \"trained_intercept_i.npy\")\n",
    "        weights_intensity = None\n",
    "        if args[\"use_intensity\"]:\n",
    "            weights_intensity = np.load(model_path + \"trained_weights_intensity.npy\")\n",
    "        if args['temporal_filter']:\n",
    "            args['n'] = 1\n",
    "        \n",
    "        res_rest_all = []\n",
    "        res_T_all = []\n",
    "        Ie_T_all = []\n",
    "        Ii_T_all = []\n",
    "        Ii_T2_all = []\n",
    "        for ind, UV_flow_file in enumerate(UV_flow_files):\n",
    "            UV_flow = np.load(UV_flow_file)\n",
    "            frame_intensity = None\n",
    "            if args['use_intensity']:\n",
    "                frame_intensity = np.load(intensity_files[ind])\n",
    "                assert(len(frame_intensity) == len(UV_flow_))\n",
    "            if model_type == 'excitatory':\n",
    "                res_T = hpfn.get_response_excitatory_only(\\\n",
    "                    args, weights_e, intercept_e, a, b, UV_flow, weights_intensity, frame_intensity)\n",
    "            elif model_type == 'excitatory_WNR':\n",
    "                res_T = hpfn.get_response_excitatory_only(\\\n",
    "                    args, weights_e, intercept_e, a, b, UV_flow, weights_intensity, frame_intensity)\n",
    "            elif model_type == 'inhibitory1':\n",
    "                res_T = hpfn.get_response_with_inhibition1(\\\n",
    "                    args, weights_e, weights_i, intercept_e, intercept_i, a, b, UV_flow, weights_intensity, frame_intensity)\n",
    "            elif model_type == 'inhibitory2':\n",
    "                res_rest, res_T, Ie_T, Ii_T, Ii_T2 = hpfn.get_response_with_inhibition2(\\\n",
    "                    args, weights_e, weights_i, intercept_e, intercept_i, UV_flow, weights_intensity, frame_intensity)\n",
    "            res_rest_all.append(res_rest)\n",
    "            res_T_all.append(res_T)\n",
    "            Ie_T_all.append(Ie_T)\n",
    "            Ii_T_all.append(Ii_T)\n",
    "            Ii_T2_all.append(Ii_T2)\n",
    "#             print(Ie_T.max())\n",
    "#             print(Ii_T.max())\n",
    "\n",
    "        # save as '_M{}_1' if the inhibitory filter has the bulb on the right\n",
    "        # save as '_M{}_2' if the inhibitory filter does not have the bulb on the right\n",
    "        filename = figure_path+'klap_replication/'+figuretype+'_M{}_1'.format(M)\n",
    "        np.savez(filename, res_rest_all, res_T_all, Ie_T_all, Ii_T_all, Ii_T2_all)\n",
    "            \n",
    "figuretype = figuretypes1[0]\n",
    "filename = figure_path+'klap_replication/'+figuretype+'_M{}_1.npz'.format(M)\n",
    "loaded_file = np.load(filename, allow_pickle=True)\n",
    "res_rest_all = loaded_file['arr_0']\n",
    "res_T_all = loaded_file['arr_1']\n",
    "Ie_T_all = loaded_file['arr_2']\n",
    "Ii_T_all = loaded_file['arr_3']\n",
    "Ii_T2_all = loaded_file['arr_4']\n",
    "N = len(res_T_all)\n",
    "res_max_2Fa = np.max(res_T_all[0])\n",
    "res_max_2Fa2 = np.max(Ie_T_all[0]-Ii_T_all[0])\n",
    "print(f'Max excitatory response of the looming disk is {np.max(Ie_T_all[0])}.')\n",
    "print(f'Max inhibitory response of the looming disk is {np.max(Ii_T_all[0])}.')\n",
    "print(f'Max excitatory-inhibitory response of the looming disk is {np.max(Ie_T_all[0]-Ii_T_all[0])}.')                \n",
    "            "
   ]
  },
  {
   "cell_type": "code",
   "execution_count": 64,
   "metadata": {},
   "outputs": [
    {
     "data": {
      "image/png": "[encoded data removed]",
      "text/plain": [
       "<Figure size 432x288 with 1 Axes>"
      ]
     },
     "metadata": {
      "needs_background": "light"
     },
     "output_type": "display_data"
    }
   ],
   "source": [
    "# check the dip in the beginning of the looming disk with constant angular velocity\n",
    "plt.plot(Ie_T_all[0]-Ii_T2_all[0])\n",
    "plt.show()"
   ]
  },
  {
   "cell_type": "code",
   "execution_count": 59,
   "metadata": {},
   "outputs": [
    {
     "data": {
      "text/plain": [
       "'/Volumes/Baohua/research/loom_detection/results/final_figures_for_paper/'"
      ]
     },
     "execution_count": 59,
     "metadata": {},
     "output_type": "execute_result"
    }
   ],
   "source": [
    "figure_path"
   ]
  },
  {
   "cell_type": "code",
   "execution_count": 62,
   "metadata": {},
   "outputs": [
    {
     "name": "stdout",
     "output_type": "stream",
     "text": [
      "The shape of the intensity is (3, 1, 800, 800)\n",
      "The shape of the UV_flows is (3, 1, 144, 4)\n",
      "The shape of the intensity is (5, 1, 800, 800)\n",
      "The shape of the UV_flows is (5, 1, 144, 4)\n",
      "The shape of the intensity is (6, 1, 800, 800)\n",
      "The shape of the UV_flows is (6, 1, 144, 4)\n",
      "The shape of the intensity is (7, 1, 800, 800)\n",
      "The shape of the UV_flows is (7, 1, 144, 4)\n",
      "The shape of the intensity is (11, 1, 800, 800)\n",
      "The shape of the UV_flows is (11, 1, 144, 4)\n",
      "The shape of the intensity is (21, 1, 800, 800)\n",
      "The shape of the UV_flows is (21, 1, 144, 4)\n",
      "The shape of the intensity is (41, 1, 800, 800)\n",
      "The shape of the UV_flows is (41, 1, 144, 4)\n",
      "The shape of the intensity is (51, 1, 800, 800)\n",
      "The shape of the UV_flows is (51, 1, 144, 4)\n",
      "The shape of the intensity is (67, 1, 800, 800)\n",
      "The shape of the UV_flows is (67, 1, 144, 4)\n",
      "The shape of the intensity is (101, 1, 800, 800)\n",
      "The shape of the UV_flows is (101, 1, 144, 4)\n"
     ]
    }
   ],
   "source": [
    "# Now, we want to check the response curves to looming disk with different constant angular velocities\n",
    "def get_expanding_disk(K, L, pad, dt, v_deg):\n",
    "    N = K * L\n",
    "    ro = (N - 1) / 2.\n",
    "    co = (N - 1) / 2.\n",
    "    R = 2 * L\n",
    "    v = (v_deg / 5) * L\n",
    "\n",
    "    expanding_disk = []\n",
    "    while R <= (N + 1) / 2:\n",
    "        one_disk = gKs.get_one_disk(K, L, pad, ro, co, R)\n",
    "        expanding_disk.append(one_disk)\n",
    "        R = R + v * dt\n",
    "    expanding_disk = np.array(expanding_disk)\n",
    "    \n",
    "    return expanding_disk\n",
    "\n",
    "K = 12\n",
    "L = 50\n",
    "dt = 0.01\n",
    "p = 1\n",
    "pad = 2 * L\n",
    "delay_dt = 0.03\n",
    "v_deg = 10\n",
    "space_filter = flfd.get_space_filter(L/2, 4)\n",
    "leftup_corners = opsg.get_leftup_corners(K, L, pad)\n",
    "save_path = '/Volumes/Baohua/data_on_hd/loom/looming_disk_constant_v/'\n",
    "if not os.path.exists(save_path):\n",
    "    os.makedirs(save_path)\n",
    "\n",
    "v_deg_list = [1000, 500, 400, 300, 200, 100, 50, 40, 30, 20]\n",
    "for v_deg in v_deg_list:\n",
    "    expanding_disk = get_expanding_disk(K, L, pad, dt, v_deg)\n",
    "    print(f'The shape of the intensity is {expanding_disk.shape}')\n",
    "    # calculate the flow field\n",
    "    UV_flows = gKs.get_UV_flows(space_filter, K, L, pad, dt, delay_dt, leftup_corners, expanding_disk)\n",
    "    print(f'The shape of the UV_flows is {UV_flows.shape}')\n",
    "    \n",
    "    np.save(save_path+f'expanding_disk_{v_deg}', expanding_disk)\n",
    "    np.save(save_path+f'UV_flows_{v_deg}', UV_flows)"
   ]
  },
  {
   "cell_type": "code",
   "execution_count": 76,
   "metadata": {},
   "outputs": [
    {
     "name": "stdout",
     "output_type": "stream",
     "text": [
      "/Volumes/Baohua/research_large_files/multi_lplc2_training_D5_i2/set_1256_R1.0/inhibitory2/ACT_0_0.001/False_False_111_20201221045939/\n",
      "0.0\n",
      "7.088841915130615\n",
      "9.375988483428955\n",
      "9.412335872650146\n",
      "8.253118991851807\n",
      "5.205963134765625\n",
      "2.7795627117156982\n",
      "2.2396366596221924\n",
      "1.690051555633545\n",
      "1.1362676620483398\n"
     ]
    }
   ],
   "source": [
    "model_types = ['excitatory', 'excitatory_WNR', 'inhibitory1', 'inhibitory2']\n",
    "model_type = model_types[3]\n",
    "\n",
    "filter_types = ['outward', 'inward']\n",
    "filter_type = filter_types[0]\n",
    "\n",
    "M = 256\n",
    "args = {}\n",
    "args['M'] = M\n",
    "args[\"n\"] = 0\n",
    "args[\"dt\"] = 0.01\n",
    "args[\"use_intensity\"] = False\n",
    "args[\"symmetrize\"] = True\n",
    "args['K'] = 12\n",
    "args['alpha_leak'] = 0.0\n",
    "args['temporal_filter'] = False\n",
    "args['tau_1'] = 1.\n",
    "\n",
    "saved_results_path = figure_path+'model_clustering/clusterings/'\n",
    "model_folders = np.load(saved_results_path+'model_folders_M{}.npy'.format(M), allow_pickle=True)\n",
    "model_path = model_folders[0][3]+'/'\n",
    "# model_path = figure_path + 'weights_different_regu/M160/outward/'\n",
    "print(model_path)\n",
    "\n",
    "a = np.load(model_path + \"trained_a.npy\")\n",
    "b = np.load(model_path + \"trained_b.npy\")\n",
    "intercept_e = np.load(model_path + \"trained_intercept_e.npy\")\n",
    "tau_1 = np.load(model_path + \"trained_tau_1.npy\")\n",
    "weights_e = np.load(model_path + \"trained_weights_e.npy\")\n",
    "if model_type == 'inhibitory1' or model_type == 'inhibitory2':\n",
    "    weights_i = np.load(model_path + \"trained_weights_i.npy\")\n",
    "    intercept_i = np.load(model_path + \"trained_intercept_i.npy\")\n",
    "weights_intensity = None\n",
    "if args[\"use_intensity\"]:\n",
    "    weights_intensity = np.load(model_path + \"trained_weights_intensity.npy\")\n",
    "if args['temporal_filter']:\n",
    "    args['n'] = 1\n",
    "\n",
    "res_rest_2Fa_all = []\n",
    "res_T_2Fa_all = []\n",
    "Ie_T_2Fa_all = []\n",
    "Ii_T_2Fa_all = []\n",
    "Ii_T2_2Fa_all = []\n",
    "\n",
    "for v_deg in v_deg_list:\n",
    "    data_path =  '/Volumes/Baohua/data_on_hd/loom/looming_disk_constant_v/'\n",
    "    UV_flow = np.load(data_path+f'UV_flows_{v_deg}.npy', allow_pickle=True)\n",
    "    frame_intensity = None\n",
    "    res_rest, res_T, Ie_T, Ii_T, Ii_T2 = hpfn.get_response_with_inhibition2(\\\n",
    "        args, weights_e, weights_i, intercept_e, intercept_i, UV_flow, weights_intensity, frame_intensity)\n",
    "    res_T_max = (res_T-res_T[0]).max()\n",
    "    print(res_T_max)\n",
    "    \n",
    "    res_rest_2Fa_all.append(res_rest)\n",
    "    res_T_2Fa_all.append(res_T)\n",
    "    Ie_T_2Fa_all.append(Ie_T)\n",
    "    Ii_T_2Fa_all.append(Ii_T)\n",
    "    Ii_T2_2Fa_all.append(Ii_T2)\n",
    "\n"
   ]
  },
  {
   "cell_type": "code",
   "execution_count": 80,
   "metadata": {},
   "outputs": [
    {
     "data": {
      "image/png": "[encoded data removed]",
      "text/plain": [
       "<Figure size 1440x360 with 4 Axes>"
      ]
     },
     "metadata": {
      "needs_background": "light"
     },
     "output_type": "display_data"
    }
   ],
   "source": [
    "# check the dip in the beginning of the looming disk with constant angular velocity\n",
    "fig = plt.figure(figsize=(20, 5))\n",
    "gs0 = gridspec.GridSpec(1, 4, figure=fig)\n",
    "\n",
    "ll = len(res_T_2Fa_all)\n",
    "red_scale = [ii/(ll*1.2) for ii in range(ll)]\n",
    "\n",
    "ax = fig.add_subplot(gs0[0, 0])\n",
    "for ii, res in enumerate(res_T_2Fa_all):\n",
    "    ax.plot(res, c=[red_scale[ii], 0, 0])\n",
    "ax.set_xscale('log')\n",
    "    \n",
    "ax = fig.add_subplot(gs0[0, 1])\n",
    "for ii, res in enumerate(Ie_T_2Fa_all):\n",
    "    ax.plot(res, c=[red_scale[ii], 0, 0])\n",
    "ax.set_xscale('log')\n",
    "    \n",
    "ax = fig.add_subplot(gs0[0, 2])\n",
    "for ii, res in enumerate(Ii_T_2Fa_all):\n",
    "    ax.plot(res, c=[red_scale[ii], 0, 0])\n",
    "ax.set_xscale('log')\n",
    "    \n",
    "ax = fig.add_subplot(gs0[0, 3])\n",
    "for ii, res in enumerate(Ie_T_2Fa_all):\n",
    "    ax.plot(res-Ii_T_2Fa_all[ii], c=[red_scale[ii], 0, 0])\n",
    "ax.set_xscale('log')\n",
    "    \n",
    "    \n",
    "plt.show()"
   ]
  },
  {
   "cell_type": "markdown",
   "metadata": {},
   "source": [
    "# Hand tuned weights"
   ]
  },
  {
   "cell_type": "code",
   "execution_count": 123,
   "metadata": {},
   "outputs": [
    {
     "data": {
      "image/png": "[encoded data removed]",
      "text/plain": [
       "<Figure size 432x288 with 1 Axes>"
      ]
     },
     "metadata": {
      "needs_background": "light"
     },
     "output_type": "display_data"
    }
   ],
   "source": [
    "trained_weights_i = np.load('../results/hand_tuned_weights/trained_weights_i.npy')\n",
    "trained_weights_i_right = np.zeros_like(trained_weights_i[:, 0:1])\n",
    "trained_weights_i_right[:, :] = trained_weights_i[:, 0:1]\n",
    "\n",
    "trained_weights_i_right_reshaped = trained_weights_i_right.reshape(12, 12)\n",
    "# trained_weights_i_right_reshaped[trained_weights_i_right_reshaped>=3] = 10\n",
    "trained_weights_i_right_reshaped[trained_weights_i_right_reshaped<3] = 0\n",
    "trained_weights_i_right_reshaped[0, 4:8] = 10\n",
    "trained_weights_i_right_reshaped[11, 4:8] = 10\n",
    "# trained_weights_i_right_reshaped[1, 4:10] = 2\n",
    "# trained_weights_i_right_reshaped[10, 4:10] = 2\n",
    "\n",
    "plt.imshow(trained_weights_i_right_reshaped)\n",
    "plt.show()"
   ]
  },
  {
   "cell_type": "code",
   "execution_count": 124,
   "metadata": {},
   "outputs": [
    {
     "data": {
      "image/png": "[encoded data removed]",
      "text/plain": [
       "<Figure size 432x288 with 1 Axes>"
      ]
     },
     "metadata": {
      "needs_background": "light"
     },
     "output_type": "display_data"
    }
   ],
   "source": [
    "trained_weights_e = np.load('../results/hand_tuned_weights/trained_weights_e.npy')\n",
    "trained_weights_e_right = np.zeros_like(trained_weights_e[:, 0:1])\n",
    "trained_weights_e_right[:, :] = trained_weights_e[:, 0:1]\n",
    "\n",
    "trained_weights_e_right_reshaped = trained_weights_e_right.reshape(12, 12)\n",
    "trained_weights_e_right_reshaped[trained_weights_e_right_reshaped>1] = 3\n",
    "\n",
    "plt.imshow(trained_weights_e_right_reshaped)\n",
    "plt.show()"
   ]
  },
  {
   "cell_type": "code",
   "execution_count": 125,
   "metadata": {},
   "outputs": [],
   "source": [
    "trained_weights_e_tuned = np.zeros_like(trained_weights_e)\n",
    "trained_weights_i_tuned = np.zeros_like(trained_weights_i)\n",
    "\n",
    "rot_numbers = [0, 2, 1, 3]\n",
    "\n",
    "for ind, rot_n in enumerate(rot_numbers):\n",
    "    trained_weights_e_right_reshaped_rot = np.rot90(trained_weights_e_right_reshaped, rot_n)\n",
    "    trained_weights_i_right_reshaped_rot = np.rot90(trained_weights_i_right_reshaped, rot_n)\n",
    "    trained_weights_e_tuned[:, ind:ind+1] = trained_weights_e_right_reshaped_rot.reshape(144, 1)\n",
    "    trained_weights_i_tuned[:, ind:ind+1] = trained_weights_i_right_reshaped_rot.reshape(144, 1)\n",
    "file_name_e = '../results/hand_tuned_weights/trained_weights_e_tuned.npy'\n",
    "file_name_i = '../results/hand_tuned_weights/trained_weights_i_tuned.npy'\n",
    "np.save(file_name_e, trained_weights_e_tuned)\n",
    "np.save(file_name_i, trained_weights_i_tuned)"
   ]
  },
  {
   "cell_type": "code",
   "execution_count": 127,
   "metadata": {},
   "outputs": [
    {
     "name": "stdout",
     "output_type": "stream",
     "text": [
      "../results/hand_tuned_weights/\n"
     ]
    }
   ],
   "source": [
    "importlib.reload(hpfn)\n",
    "\n",
    "figuretypes1 = ['2F', '3e', '3f', '4A', '4C', '4E', '4G']\n",
    "\n",
    "figuretypes2 = \\\n",
    "[['2Fa', '2Fb', '2Fc', '2Fd', '2Fe', '2Ff', '2Fg'], \\\n",
    " ['3e1', '3e2', '3e3', '3e4', '3e5', '3e6', '3e7', '3e8', '3e9', '3e10', '3e11', '3e12'], \\\n",
    " ['3f1', '3f2', '3f3', '3f4', '3f5', '3f6', '3f7', '3f8', '3f9', '3f10', '3f11', '3f12'], \\\n",
    " ['4Aa', '4Ab', '4Ac'], \\\n",
    " ['4Ca', '4Cb', '4Cc', '4Cd', '4Ce'], \\\n",
    " ['4E10', '4E20', '4E60'], \\\n",
    " ['4Ga', '4Gb', '4Gc', '4Gd', '4Ge']]\n",
    "\n",
    "labels_2F = np.zeros(7)\n",
    "labels_2F[0] = 1\n",
    "\n",
    "labels_3e = np.zeros(12)\n",
    "labels_3f = np.zeros(12)\n",
    "\n",
    "labels_4A = np.zeros(3)\n",
    "labels_4A[0] = 1\n",
    "labels_4C = np.zeros(5)\n",
    "labels_4E = np.zeros(3)\n",
    "labels_4G = np.zeros(5)\n",
    "\n",
    "labels_T = [labels_2F, labels_3e, labels_3f, labels_4A, labels_4C, labels_4E, labels_4G]\n",
    "\n",
    "ymin = -0.1\n",
    "ymax_dict = {}\n",
    "ymax_dict['3e'] = 0.4\n",
    "ymax_dict['3f'] = 1.5\n",
    "ymax_dict['4A'] = 1\n",
    "ymax_dict['4C'] = 0.3\n",
    "ymax_dict['4E'] = 0.6\n",
    "ymax_dict['4G'] = 0.1\n",
    "\n",
    "\n",
    "model_types = ['excitatory', 'excitatory_WNR', 'inhibitory1', 'inhibitory2']\n",
    "model_type = model_types[3]\n",
    "\n",
    "filter_types = ['outward', 'inward']\n",
    "filter_type = filter_types[0]\n",
    "\n",
    "M = 160\n",
    "args = {}\n",
    "args['M'] = M\n",
    "args[\"n\"] = 0\n",
    "args[\"dt\"] = 0.01\n",
    "args[\"use_intensity\"] = False\n",
    "args[\"symmetrize\"] = True\n",
    "args['K'] = 12\n",
    "args['alpha_leak'] = 0.0\n",
    "args['temporal_filter'] = False\n",
    "args['tau_1'] = 1.\n",
    "\n",
    "model_path = '../results/hand_tuned_weights/'\n",
    "print(model_path)\n",
    "data_path =  '/Volumes/Baohua/data_on_hd/loom/Klapoetke_stimuli_L50_2/Klapoetke_UV_flows/2F/Klapoetke_UV_flows_2Fa.npy'\n",
    "UV_flow = np.load(data_path, allow_pickle=True)\n",
    "_, res_T_2Fa, _, _ = hpfn.get_response_over_time(args, model_path, model_type, UV_flow, intensity=0)\n",
    "res_T_2Fa_max = (res_T_2Fa-res_T_2Fa[0]).max()\n",
    "\n",
    "if os.path.isdir(model_path):\n",
    "    for ind, figuretype in enumerate(figuretypes1):\n",
    "        data_path =  '/Volumes/Baohua/data_on_hd/loom/Klapoetke_stimuli_L50_2/Klapoetke_UV_flows/'+figuretype+'/'\n",
    "        UV_flow_files = [data_path+'Klapoetke_UV_flows_'+file+'.npy' for file in figuretypes2[ind]]\n",
    "        data_path = '/Volumes/Baohua/data_on_hd/loom/Klapoetke_stimuli_L50_2/Klapoetke_intensities_cg/'+figuretype+'/'\n",
    "        intensity_files = [data_path+'Klapoetke_intensities_cg_'+file+'.npy' for file in figuretypes2[ind]]\n",
    "\n",
    "        K = args['K']\n",
    "        alpha_leak = args['alpha_leak']\n",
    "        a = np.load(model_path + \"trained_a.npy\")\n",
    "        b = np.load(model_path + \"trained_b.npy\")\n",
    "        intercept_e = np.load(model_path + \"trained_intercept_e.npy\")\n",
    "#         intercept_e = 0\n",
    "        tau_1 = np.load(model_path + \"trained_tau_1.npy\")\n",
    "        weights_e = np.load(model_path + \"trained_weights_e_tuned.npy\")\n",
    "        if model_type == 'inhibitory1' or model_type == 'inhibitory2':\n",
    "            weights_i = np.load(model_path + \"trained_weights_i_tuned.npy\")\n",
    "            intercept_i = np.load(model_path + \"trained_intercept_i.npy\")\n",
    "#             intercept_i = -0.2\n",
    "        weights_intensity = None\n",
    "        if args[\"use_intensity\"]:\n",
    "            weights_intensity = np.load(model_path + \"trained_weights_intensity.npy\")\n",
    "        if args['temporal_filter']:\n",
    "            args['n'] = 1\n",
    "        \n",
    "        res_rest_all = []\n",
    "        res_T_all = []\n",
    "        Ie_T_all = []\n",
    "        Ii_T_all = []\n",
    "        Ii_T2_all = []\n",
    "        for ind, UV_flow_file in enumerate(UV_flow_files):\n",
    "            UV_flow = np.load(UV_flow_file)\n",
    "            frame_intensity = None\n",
    "            if args['use_intensity']:\n",
    "                frame_intensity = np.load(intensity_files[ind])\n",
    "                assert(len(frame_intensity) == len(UV_flow_))\n",
    "            if model_type == 'excitatory':\n",
    "                res_T = hpfn.get_response_excitatory_only(\\\n",
    "                    args, weights_e, intercept_e, a, b, UV_flow, weights_intensity, frame_intensity)\n",
    "            elif model_type == 'excitatory_WNR':\n",
    "                res_T = hpfn.get_response_excitatory_only(\\\n",
    "                    args, weights_e, intercept_e, a, b, UV_flow, weights_intensity, frame_intensity)\n",
    "            elif model_type == 'inhibitory1':\n",
    "                res_T = hpfn.get_response_with_inhibition1(\\\n",
    "                    args, weights_e, weights_i, intercept_e, intercept_i, a, b, UV_flow, weights_intensity, frame_intensity)\n",
    "            elif model_type == 'inhibitory2':\n",
    "                res_rest, res_T, Ie_T, Ii_T, Ii_T2 = hpfn.get_response_with_inhibition2(\\\n",
    "                    args, weights_e, weights_i, intercept_e, intercept_i, UV_flow, weights_intensity, frame_intensity)\n",
    "            res_rest_all.append(res_rest)\n",
    "            res_T_all.append(res_T)\n",
    "            Ie_T_all.append(Ie_T)\n",
    "            Ii_T_all.append(Ii_T)\n",
    "            Ii_T2_all.append(Ii_T2)\n",
    "        filename = figure_path+'klap_replication/'+figuretype+'_M{}_h'.format(M)\n",
    "        np.savez(filename, res_rest_all, res_T_all, Ie_T_all, Ii_T_all, Ii_T2_all)\n",
    "            \n",
    "                    "
   ]
  },
  {
   "cell_type": "markdown",
   "metadata": {},
   "source": [
    "# Linear law"
   ]
  },
  {
   "cell_type": "code",
   "execution_count": 18,
   "metadata": {},
   "outputs": [
    {
     "name": "stdout",
     "output_type": "stream",
     "text": [
      "The length of the trajectory is 46.\n",
      "The length of the movie is 45.\n",
      "The length of the trajectory is 91.\n",
      "The length of the movie is 90.\n",
      "The length of the trajectory is 182.\n",
      "The length of the movie is 181.\n",
      "The length of the trajectory is 364.\n",
      "The length of the movie is 363.\n",
      "The length of the trajectory is 455.\n",
      "The length of the movie is 454.\n",
      "The length of the trajectory is 546.\n",
      "The length of the movie is 545.\n",
      "The length of the trajectory is 637.\n",
      "The length of the movie is 636.\n",
      "The length of the trajectory is 728.\n",
      "The length of the movie is 727.\n",
      "The length of the trajectory is 819.\n",
      "The length of the movie is 818.\n",
      "The length of the trajectory is 910.\n",
      "The length of the movie is 909.\n"
     ]
    }
   ],
   "source": [
    "# Here, we study the linear relationship between peak time and R/v.\n",
    "\n",
    "%matplotlib inline\n",
    "\n",
    "importlib.reload(opsg)\n",
    "importlib.reload(flfd)\n",
    "importlib.reload(hpfn)\n",
    "\n",
    "M = 1\n",
    "R = 1 # radius of the ball (m)\n",
    "Rs = np.array([R])\n",
    "dt = 0.001 # time step (sec)\n",
    "dynamics_fun = dn3d.dynamics_fun_zero_field # dynamics that is imposed on the object\n",
    "eta_1 = 0. # random force added on the ball (m/sec^2)\n",
    "sigma = 0. # noise added to images\n",
    "theta_r = np.deg2rad(30) # half of the receptive field width (rad)\n",
    "K = 12 # K*K is the total number of elements\n",
    "L = 4 # L is the dimension of each element\n",
    "sample_dt = 0.001 # sampling resolution\n",
    "delay_dt = 0.03 # delay in the motion detector\n",
    "D_max = 6.1*R # maximum initial distance (m)\n",
    "\n",
    "if M == 1:\n",
    "    lplc2_units_coords = np.array([[0, 0, 1]])\n",
    "else:\n",
    "    _, lplc2_units_coords = opsg.get_lplc2_units(M)\n",
    "\n",
    "data_type = 'hit'\n",
    "R_over_v_list = [0.01, 0.02, 0.04, 0.08, 0.1, 0.12, 0.14, 0.16, 0.18, 0.2]\n",
    "\n",
    "for R_over_v in R_over_v_list:\n",
    "    x = lplc2_units_coords[0][0]\n",
    "    y = lplc2_units_coords[0][1]\n",
    "    z = lplc2_units_coords[0][2]\n",
    "    x, y, z = 1.1 * hpfn.get_normalized_vector([x, y, z])\n",
    "    vx = x * R / R_over_v\n",
    "    vy = y * R / R_over_v\n",
    "    vz = z * R / R_over_v\n",
    "    traj, distance = smgnmu.generate_one_trajectory_hit(M, R, D_max, theta_r, dt, dynamics_fun, eta_1, x, y, z, vx, vy, vz)\n",
    "\n",
    "    print(f'The length of the trajectory is {len(traj)}.')\n",
    "\n",
    "    N = K*L + 4*L # Size of each frame, the additional 4*L is for spatial filtering and will be deleted afterwards.\n",
    "    pad = 2*L\n",
    "    leftup_corners = opsg.get_leftup_corners(K, L, pad)\n",
    "    coord_y = np.arange(N) - (N-1)/2.\n",
    "    coord_x = np.arange(N) - (N-1)/2.\n",
    "    coords_y, coords_x = np.meshgrid(coord_y, -coord_x) # coordinates of each point in the frame\n",
    "    dm = np.sqrt(coords_y**2 + coords_x**2) # distance matrix\n",
    "    theta_r = np.deg2rad(30) # half of the receptive field width (rad)\n",
    "    myheat = LinearSegmentedColormap.from_list('br', [\"b\", \"w\", \"r\"], N=256)\n",
    "    space_filter = flfd.get_space_filter(L/2, 4)\n",
    "    theta_matrix, phi_matrix = opsg.get_angle_matrix(theta_r, coords_x, coords_y, dm, K, L)\n",
    "    coord_matrix = opsg.get_coord_matrix(phi_matrix, theta_matrix, 1.)\n",
    "\n",
    "    _, intensities_sample_cg, UV_flow_sample, _ = \\\n",
    "        hpfn.generate_one_sample_exp(M, Rs, traj, sigma, theta_r, space_filter, K, L, dt, sample_dt, delay_dt)\n",
    "    steps = len(intensities_sample_cg)\n",
    "    print(f'The length of the movie is {steps}.')\n",
    "\n",
    "    save_path = '/Volumes/Baohua/data_on_hd/loom/linear_law/'+data_type+'/'\n",
    "    if not os.path.exists(save_path):\n",
    "        os.makedirs(save_path)\n",
    "\n",
    "    np.save(save_path+f'traj_{R_over_v}_M{M}', traj)\n",
    "    np.save(save_path+f'distance_{R_over_v}_M{M}', distance)\n",
    "    np.save(save_path+f'intensities_sample_cg{R_over_v}_M{M}', intensities_sample_cg)\n",
    "    np.save(save_path+f'UV_flow_sample_{R_over_v}_M{M}', UV_flow_sample)\n"
   ]
  },
  {
   "cell_type": "code",
   "execution_count": 8,
   "metadata": {},
   "outputs": [],
   "source": [
    "M = 256\n",
    "\n",
    "# response, outward filters\n",
    "model_folders = np.load(figure_path + '/model_clustering/clusterings/model_folders_M{}.npy'.format(M), \\\n",
    "                        allow_pickle=True)\n",
    "# model\n",
    "in_or_out = 0 # 0: outward; 1: inward\n",
    "args = {}\n",
    "args[\"n\"] = 0\n",
    "args[\"dt\"] = 0.03\n",
    "args[\"use_intensity\"] = False\n",
    "args[\"symmetrize\"] = True\n",
    "args['K'] = 12\n",
    "args['alpha_leak'] = 0.0\n",
    "args['M'] = M\n",
    "args['temporal_filter'] = False\n",
    "args['tau_1'] = 1.\n",
    "model_types = ['excitatory', 'excitatory_WNR', 'inhibitory1', 'inhibitory2']\n",
    "filter_types = ['outward', 'inward']\n",
    "model_type = model_types[3]\n",
    "filter_type = filter_types[in_or_out]\n",
    "model_path = model_folders[in_or_out][16]+'/' # for [0], add _sup1 at the end of the saved file.\n",
    "\n",
    "data_type = 'hit'\n",
    "data_path = '/Volumes/Baohua/data_on_hd/loom/linear_law/'+data_type+'/'\n",
    "\n",
    "# R_over_v_list = [0.01, 0.02, 0.03, 0.04, 0.05, 0.06, 0.07, 0.08, 0.09, 0.1, \\\n",
    "#                  0.11, 0.12, 0.13, 0.14, 0.15, 0.16, 0.17, 0.18, 0.19, 0.2]\n",
    "R_over_v_list = [0.01, 0.02, 0.04, 0.06, 0.08, 0.1, 0.12, 0.14, 0.16, 0.18, 0.2]\n",
    "\n",
    "# green, yellow green, orange, red\n",
    "color_list_data = [[0/255., 128/255., 0/255.], \\\n",
    "                   [154/255., 205/255., 50/255.], \\\n",
    "                   [255/255., 165/255., 0], \\\n",
    "                   [255/255., 0, 0]]\n",
    "color_list = []\n",
    "for ind, R_over_v in enumerate(R_over_v_list):\n",
    "    if R_over_v == 0.01:\n",
    "        color_list.append(color_list_data[0])\n",
    "    elif R_over_v == 0.02:\n",
    "        color_list.append(color_list_data[1])\n",
    "    elif R_over_v == 0.04:\n",
    "        color_list.append(color_list_data[2])\n",
    "    elif R_over_v == 0.08:\n",
    "        color_list.append(color_list_data[3])\n",
    "    else:\n",
    "        val = 1. / (len(R_over_v_list) + 5) * ind\n",
    "        color_list.append([val, val, val])\n",
    "\n",
    "res_T_all = []\n",
    "distance_T_all = []\n",
    "for R_over_v in R_over_v_list:\n",
    "    M = 256\n",
    "    file = data_path+f'UV_flow_sample_{R_over_v}_M{M}.npy'\n",
    "    UV_flow = np.load(file, allow_pickle=True)\n",
    "    res_rest, res_T, prob, prob_rest = hpfn.get_response_over_time(args, model_path, model_type, UV_flow, intensity=0)\n",
    "    res_T_all.append(res_T.sum(axis=1))\n",
    "    \n",
    "    file = data_path+f'distance_{R_over_v}_M{M}.npy'\n",
    "    distance = np.load(file, allow_pickle=True)\n",
    "    distance_T_all.append(distance)\n",
    "    \n",
    "save_path = '/Volumes/Baohua/data_on_hd/loom/linear_law/'+data_type+'/'\n",
    "if not os.path.exists(save_path):\n",
    "    os.makedirs(save_path)\n",
    "\n",
    "np.save(save_path+f'distance_T_all_M{M}_1', distance_T_all)\n",
    "np.save(save_path+f'res_T_all_M{M}_1', res_T_all)\n"
   ]
  },
  {
   "cell_type": "code",
   "execution_count": 6,
   "metadata": {},
   "outputs": [
    {
     "data": {
      "text/plain": [
       "'/Volumes/Baohua/research_large_files/multi_lplc2_training_D5/M_256/lr_0.001/regu_0.0001/seed_156_20210619111917/'"
      ]
     },
     "execution_count": 6,
     "metadata": {},
     "output_type": "execute_result"
    }
   ],
   "source": [
    "model_path"
   ]
  },
  {
   "cell_type": "markdown",
   "metadata": {},
   "source": [
    "# HRC motion estimator"
   ]
  },
  {
   "cell_type": "markdown",
   "metadata": {},
   "source": [
    "## Tuning curves: moving edge as an example"
   ]
  },
  {
   "cell_type": "code",
   "execution_count": 4,
   "metadata": {},
   "outputs": [],
   "source": [
    "def get_moving_edge(K, L, pad, dt, v_deg):\n",
    "    N = K * L\n",
    "    ro = -L\n",
    "    co = (N - 1) / 2.\n",
    "    theta_a = np.pi * 1.5\n",
    "    L1 = 0\n",
    "    L2 = (N - 1) / 2.\n",
    "    L3 = 0\n",
    "    L4 = (N - 1) / 2.\n",
    "    v = (v_deg / 5) * L\n",
    "    \n",
    "    moving_edge = []\n",
    "    while L1 <= N - ro:\n",
    "        one_bar = gKs.get_one_bar(K, L, pad, ro, co, theta_a, L1, L2, L3, L4)\n",
    "        moving_edge.append(one_bar)\n",
    "        L1 = L1 + v * dt\n",
    "    moving_edge = np.array(moving_edge)\n",
    "    \n",
    "    return moving_edge\n",
    "\n",
    "\n",
    "def animation_by_clear_output(img_roll, interval=10, sleep_time=0):\n",
    "    T = len(img_roll)\n",
    "    v_max = np.abs(img_roll).max()\n",
    "    \n",
    "    plt.figure()\n",
    "    for t in range(0, T, interval):\n",
    "        plt.imshow(img_roll[t], 'gray_r', vmin=-v_max, vmax=v_max)\n",
    "        plt.show()\n",
    "        sleep(sleep_time)\n",
    "        clear_output(wait=True)"
   ]
  },
  {
   "cell_type": "code",
   "execution_count": 6,
   "metadata": {},
   "outputs": [
    {
     "name": "stdout",
     "output_type": "stream",
     "text": [
      "The shape of the intensity is (325, 1, 320, 320)\n",
      "The shape of the UV_flows is (325, 1, 144, 4)\n"
     ]
    }
   ],
   "source": [
    "K = 12\n",
    "L = 50\n",
    "dt = 0.01\n",
    "p = 1\n",
    "pad = 2 * L\n",
    "delay_dt = 0.03\n",
    "v_deg = 20\n",
    "\n",
    "moving_edge = get_moving_edge(K, L, pad, dt, v_deg)\n",
    "print(f'The shape of the intensity is {moving_edge.shape}')\n",
    "\n",
    "# calculate the flow field\n",
    "space_filter = flfd.get_space_filter(L/2, 4)\n",
    "leftup_corners = opsg.get_leftup_corners(K, L, pad)\n",
    "UV_flows = gKs.get_UV_flows(space_filter, K, L, pad, dt, delay_dt, leftup_corners, moving_edge)\n",
    "print(f'The shape of the UV_flows is {UV_flows.shape}')"
   ]
  },
  {
   "cell_type": "code",
   "execution_count": 7,
   "metadata": {},
   "outputs": [
    {
     "data": {
      "image/png": "[encoded data removed]",
      "text/plain": [
       "<Figure size 432x288 with 1 Axes>"
      ]
     },
     "metadata": {
      "needs_background": "light"
     },
     "output_type": "display_data"
    }
   ],
   "source": [
    "# visualize the intensity flow and flow field\n",
    "img_roll = np.squeeze(moving_edge)\n",
    "animation_by_clear_output(img_roll)"
   ]
  },
  {
   "cell_type": "code",
   "execution_count": 8,
   "metadata": {},
   "outputs": [
    {
     "data": {
      "image/png": "[encoded data removed]",
      "text/plain": [
       "<Figure size 432x288 with 1 Axes>"
      ]
     },
     "metadata": {
      "needs_background": "light"
     },
     "output_type": "display_data"
    }
   ],
   "source": [
    "# visualize the flow field, left: horizontal, right: vertical.\n",
    "T = UV_flows.shape[0]\n",
    "cf_uvs = []\n",
    "for t in range(T):\n",
    "    cf_u, cf_v = flfd.set_flow_fields_on_frame(UV_flows[t], leftup_corners, K, L, pad)\n",
    "    cf_uvs.append(np.concatenate((np.squeeze(cf_u), np.squeeze(cf_v)), axis=1))\n",
    "cf_uvs = np.array(cf_uvs)\n",
    "\n",
    "img_roll = cf_uvs\n",
    "animation_by_clear_output(img_roll)"
   ]
  },
  {
   "cell_type": "code",
   "execution_count": 9,
   "metadata": {},
   "outputs": [
    {
     "name": "stdout",
     "output_type": "stream",
     "text": [
      "This takes 1097.6194489002228.\n"
     ]
    }
   ],
   "source": [
    "# This cell takes 5-20 minutes to run depending on the value of L\n",
    "\n",
    "importlib.reload(opsg)\n",
    "importlib.reload(flfd)\n",
    "importlib.reload(hpfn)\n",
    "importlib.reload(gKs)\n",
    "\n",
    "# Tuning curves of the HRC model\n",
    "K = 12\n",
    "L = 10\n",
    "dt = 0.001\n",
    "p = 1\n",
    "pad = 2 * L\n",
    "delay_dt = 0.03\n",
    "start_time = time.time()\n",
    "space_filter = flfd.get_space_filter(L/2, 4)\n",
    "leftup_corners = opsg.get_leftup_corners(K, L, pad)\n",
    "\n",
    "UV_averaged = []\n",
    "v_deg_list = range(5, 1001, 5)\n",
    "for v_deg in v_deg_list:\n",
    "    # intensity\n",
    "    moving_edge = get_moving_edge(K, L, pad, dt, v_deg)\n",
    "    # calculate the flow field\n",
    "    UV_flows = gKs.get_UV_flows_exp(space_filter, K, L, pad, dt, delay_dt, leftup_corners, moving_edge)\n",
    "    \n",
    "    UV_averaged.append(UV_flows[UV_flows > 0].mean())\n",
    "print(f'This takes {time.time()-start_time}.')\n",
    "    \n",
    "save_path = figure_path + '/hrc_tuning/'\n",
    "if not os.path.exists(save_path):\n",
    "    os.makedirs(save_path)\n",
    "\n",
    "np.save(save_path+f'UV_averaged_moving_edge_L{L}_exp', UV_averaged)\n",
    "np.save(save_path+'v_deg_list', np.array(v_deg_list))"
   ]
  },
  {
   "cell_type": "code",
   "execution_count": 126,
   "metadata": {},
   "outputs": [
    {
     "data": {
      "image/png": "[encoded data removed]",
      "text/plain": [
       "<Figure size 432x288 with 1 Axes>"
      ]
     },
     "metadata": {
      "needs_background": "light"
     },
     "output_type": "display_data"
    }
   ],
   "source": [
    "plt.plot(v_deg_list[::-1], UV_averaged[::-1])\n",
    "plt.show()"
   ]
  },
  {
   "cell_type": "markdown",
   "metadata": {},
   "source": [
    "## Distributions of HRC outputs"
   ]
  },
  {
   "cell_type": "code",
   "execution_count": 624,
   "metadata": {},
   "outputs": [],
   "source": [
    "# All HRC output\n",
    "\n",
    "importlib.reload(hpfn)\n",
    "\n",
    "M = 32\n",
    "set_number = np.int(1000 + M)\n",
    "data_path = '/Volumes/Baohua/data_on_hd/loom/multi_lplc2_scal200_D5/set_{}/'.format(set_number)\n",
    "data_types = ['hit', 'miss', 'retreat', 'rotation']\n",
    "\n",
    "V_hit, V_miss, V_retreat, V_rotation = hpfn.get_velocity_all(data_path, data_types)\n",
    "\n",
    "save_path = figure_path + '/hrc_tuning/'\n",
    "if not os.path.exists(save_path):\n",
    "    os.makedirs(save_path)\n",
    "\n",
    "np.savez(save_path+f'HRC_output_M{M}_old', V_hit, V_miss, V_retreat, V_rotation)"
   ]
  },
  {
   "cell_type": "code",
   "execution_count": 10,
   "metadata": {},
   "outputs": [],
   "source": [
    "bz = {0:1, 16:2}"
   ]
  },
  {
   "cell_type": "code",
   "execution_count": 11,
   "metadata": {},
   "outputs": [
    {
     "data": {
      "text/plain": [
       "{0: 1, 16: 2}"
      ]
     },
     "execution_count": 11,
     "metadata": {},
     "output_type": "execute_result"
    }
   ],
   "source": [
    "bz"
   ]
  },
  {
   "cell_type": "code",
   "execution_count": 13,
   "metadata": {},
   "outputs": [
    {
     "data": {
      "text/plain": [
       "'str_h'"
      ]
     },
     "execution_count": 13,
     "metadata": {},
     "output_type": "execute_result"
    }
   ],
   "source": [
    "'str'+'_h'"
   ]
  },
  {
   "cell_type": "code",
   "execution_count": null,
   "metadata": {},
   "outputs": [],
   "source": []
  }
 ],
 "metadata": {
  "kernelspec": {
   "display_name": "Python 3",
   "language": "python",
   "name": "python3"
  },
  "language_info": {
   "codemirror_mode": {
    "name": "ipython",
    "version": 3
   },
   "file_extension": ".py",
   "mimetype": "text/x-python",
   "name": "python",
   "nbconvert_exporter": "python",
   "pygments_lexer": "ipython3",
   "version": "3.7.4"
  }
 },
 "nbformat": 4,
 "nbformat_minor": 4
}
