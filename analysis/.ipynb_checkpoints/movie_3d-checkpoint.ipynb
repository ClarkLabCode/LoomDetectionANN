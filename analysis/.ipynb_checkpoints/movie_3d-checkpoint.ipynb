{
 "cells": [
  {
   "cell_type": "code",
   "execution_count": 1,
   "metadata": {},
   "outputs": [],
   "source": [
    "import sys\n",
    "sys.path.append('../stimulus_core/')\n",
    "sys.path.append('../models_core/')\n",
    "sys.path.append('../helper/')\n",
    "\n",
    "import OpenGL \n",
    "from OpenGL.GL import *\n",
    "from OpenGL.GLU import *\n",
    "from OpenGL.GLUT import *\n",
    "import time, sys\n",
    "import os\n",
    "import numpy as np\n",
    "import imageio\n",
    "from PIL import Image\n",
    "\n",
    "import optical_signal as opsg"
   ]
  },
  {
   "cell_type": "code",
   "execution_count": null,
   "metadata": {},
   "outputs": [
    {
     "name": "stdout",
     "output_type": "stream",
     "text": [
      "Total length of the movie is 180.\n"
     ]
    }
   ],
   "source": [
    "M = 1\n",
    "data_type_number = 1 # data_types = ['hit', 'miss', 'retreat', 'rotation']\n",
    "rot_angle = 90\n",
    "rot_x = 1\n",
    "rot_y = 1\n",
    "rot_z = 1\n",
    "\n",
    "\n",
    "%run movie_3d.py 1 2 30 1 0 0"
   ]
  },
  {
   "cell_type": "code",
   "execution_count": null,
   "metadata": {},
   "outputs": [],
   "source": []
  }
 ],
 "metadata": {
  "kernelspec": {
   "display_name": "Python 3",
   "language": "python",
   "name": "python3"
  },
  "language_info": {
   "codemirror_mode": {
    "name": "ipython",
    "version": 3
   },
   "file_extension": ".py",
   "mimetype": "text/x-python",
   "name": "python",
   "nbconvert_exporter": "python",
   "pygments_lexer": "ipython3",
   "version": "3.7.4"
  }
 },
 "nbformat": 4,
 "nbformat_minor": 4
}
