{
 "cells": [
  {
   "cell_type": "code",
   "execution_count": 91,
   "metadata": {},
   "outputs": [],
   "source": [
    "# %matplotlib inline\n",
    "# %matplotlib widget\n",
    "# %matplotlib notebook\n",
    "\n",
    "import warnings\n",
    "warnings.filterwarnings(action='ignore')\n",
    "\n",
    "import sys\n",
    "sys.path.append('../stimulus_core/')\n",
    "sys.path.append('../models_core/')\n",
    "sys.path.append('../helper/')\n",
    "\n",
    "import os\n",
    "import numpy as np\n",
    "import tensorflow as tf\n",
    "import random\n",
    "import matplotlib as mpl\n",
    "import matplotlib.pyplot as plt\n",
    "import matplotlib.gridspec as gridspec\n",
    "from matplotlib.patches import Circle\n",
    "import seaborn as sns\n",
    "from  matplotlib.colors import LinearSegmentedColormap\n",
    "from mpl_toolkits.mplot3d import Axes3D\n",
    "from scipy.spatial.transform import Rotation as R3d\n",
    "import imageio\n",
    "import time\n",
    "import importlib\n",
    "import glob\n",
    "from scipy.ndimage import gaussian_filter\n",
    "from sklearn.manifold import TSNE\n",
    "from sklearn.cluster import KMeans\n",
    "from sklearn.decomposition import PCA\n",
    "from sklearn.metrics.pairwise import cosine_similarity\n",
    "from sklearn import metrics\n",
    "from scipy.spatial import distance_matrix, distance\n",
    "from scipy.cluster import hierarchy\n",
    "from PIL import Image\n",
    "from time import sleep\n",
    "import matplotlib.animation as animation\n",
    "from IPython.display import HTML\n",
    "from IPython.display import clear_output\n",
    "\n",
    "import dynamics_3d as dn3d\n",
    "import optical_signal as opsg\n",
    "import predefined_weights as pdwt\n",
    "import samples_generation_multi_units as smgnmu\n",
    "import flow_field as flfd\n",
    "import helper_functions as hpfn\n",
    "import get_Klapoetke_stimuli as gKs"
   ]
  },
  {
   "cell_type": "code",
   "execution_count": 295,
   "metadata": {},
   "outputs": [],
   "source": [
    "figure_path = '/Volumes/Baohua/research/loom_detection/results/final_figures_for_paper_exp/'\n",
    "if not os.path.exists(figure_path):\n",
    "    os.makedirs(figure_path)\n",
    "    "
   ]
  },
  {
   "cell_type": "markdown",
   "metadata": {},
   "source": [
    "# Model Clustering\n",
    "\n",
    "Here, we cluster the model with respective the trained excitatory and inhibitory weights."
   ]
  },
  {
   "cell_type": "code",
   "execution_count": 296,
   "metadata": {},
   "outputs": [],
   "source": [
    "# Generate folders that will store the results of the clustering\n",
    "\n",
    "has_inhibition = True\n",
    "save_path = figure_path+'model_clustering/'\n",
    "if not os.path.exists(save_path+'trained_filters/'):\n",
    "    os.makedirs(save_path+'trained_filters/')\n",
    "if not os.path.exists(save_path+'clusterings/'):\n",
    "    os.makedirs(save_path+'clusterings/')\n",
    "if not os.path.exists(save_path+'auc_scores/'):\n",
    "    os.makedirs(save_path+'auc_scores/')"
   ]
  },
  {
   "cell_type": "code",
   "execution_count": 353,
   "metadata": {},
   "outputs": [],
   "source": [
    "# Load the data, one needs to change M that represents number of units in the model\n",
    "\n",
    "M = 4\n",
    "# result_folder = '/Volumes/Baohua/research_large_files/multi_lplc2_training_D5_i2/\\\n",
    "# set_{}_R1.0/inhibitory2/ACT_0_0.001/'.format(np.int(1000+M))\n",
    "result_folder = f'/Volumes/Baohua/research_large_files/multi_lplc2_training_D5_exp/\\\n",
    "M_{M}/lr_0.001/regu_0.0001/'\n",
    "\n",
    "subdir_all = []\n",
    "for subdir, dirs, files in os.walk(result_folder):\n",
    "    subdir_all.append(subdir)\n",
    "subdir_all.pop(0)\n",
    "filename = save_path+'clusterings/subdir_all_M{}'.format(M)\n",
    "np.save(filename, subdir_all)\n"
   ]
  },
  {
   "cell_type": "code",
   "execution_count": 354,
   "metadata": {},
   "outputs": [
    {
     "name": "stdout",
     "output_type": "stream",
     "text": [
      "[1 2 3 4]\n"
     ]
    }
   ],
   "source": [
    "# The hierachical clustering is used for the cluster.\n",
    "\n",
    "effective_weights = np.concatenate((np.arange(4, 8), np.arange(14, 22), np.arange(25, 35), \\\n",
    "                                    np.arange(37, 47), np.arange(48, 72))) # for getting rid of corners\n",
    "trained_weights_e_all = []\n",
    "trained_weights_i_all = []\n",
    "auc_scores = []\n",
    "loss_output_all = []\n",
    "y_scores = []\n",
    "y_trues = []\n",
    "for subdir in subdir_all:\n",
    "    if os.path.exists(subdir+'/auc_roc.npy'):\n",
    "        trained_weights_e = np.load(subdir+'/trained_weights_e.npy')\n",
    "        auc_pr = np.load(subdir+'/auc_pr.npy')\n",
    "        auc_roc = np.load(subdir+'/auc_roc.npy')\n",
    "        y_score = np.load(subdir+'/y_pred_test.npy')\n",
    "        y_true = np.load(subdir+'/y_true_test.npy')\n",
    "        loss_output = np.load(subdir+'/train_loss_output.npy')\n",
    "        trained_weights_e_all.append(trained_weights_e)\n",
    "        auc_scores.append([auc_pr, auc_roc])\n",
    "        y_scores.append(y_score)\n",
    "        y_trues.append(y_true)\n",
    "        loss_output_all.append(loss_output)\n",
    "        if has_inhibition:\n",
    "            trained_weights_i = np.load(subdir+'/trained_weights_i.npy')\n",
    "            trained_weights_i_all.append(trained_weights_i)\n",
    "trained_weights_e_all = np.array(trained_weights_e_all)[:, :, 0]\n",
    "trained_weights_e_all_c = np.array(trained_weights_e_all)[:, effective_weights]\n",
    "auc_scores = np.array(auc_scores)\n",
    "y_scores = np.array(y_scores)\n",
    "y_trues = np.array(y_trues)\n",
    "loss_output_all = np.array(loss_output_all)\n",
    "if has_inhibition:\n",
    "    trained_weights_i_all = np.array(trained_weights_i_all)[:, :, 0]\n",
    "    trained_weights_i_all_c = np.array(trained_weights_i_all)[:, effective_weights]\n",
    "    trained_weights_all_c = np.concatenate((trained_weights_e_all_c, trained_weights_i_all_c), axis=1)\n",
    "else:\n",
    "    trained_weights_all_c = trained_weights_e_all_c\n",
    "\n",
    "cos_similarity = cosine_similarity(trained_weights_all_c, trained_weights_all_c)\n",
    "cos_similarity = np.clip(cos_similarity, 0., 1.)\n",
    "cos_distance = 1-cos_similarity\n",
    "\n",
    "trained_weights_all_s = np.zeros_like(trained_weights_all_c)\n",
    "for ii in range(trained_weights_all_c.shape[0]):\n",
    "    trained_weights_all_s[ii, :] = trained_weights_all_c[ii, :]+1e-30\n",
    "\n",
    "threshold = 0.2\n",
    "Z = hierarchy.linkage(trained_weights_all_s[:, :], metric='cosine')\n",
    "C = hierarchy.fcluster(Z, threshold, criterion=\"distance\")\n",
    "print(np.unique(C))\n",
    "NC = len(np.unique(C))"
   ]
  },
  {
   "cell_type": "code",
   "execution_count": 355,
   "metadata": {
    "scrolled": false
   },
   "outputs": [
    {
     "name": "stdout",
     "output_type": "stream",
     "text": [
      "Cluster label:  1 Cluster size:  39\n"
     ]
    },
    {
     "data": {
      "image/png": "[encoded data removed]",
      "text/plain": [
       "<Figure size 3456x57.6 with 120 Axes>"
      ]
     },
     "metadata": {
      "needs_background": "light"
     },
     "output_type": "display_data"
    },
    {
     "name": "stdout",
     "output_type": "stream",
     "text": [
      "Cluster label:  2 Cluster size:  112\n"
     ]
    },
    {
     "data": {
      "image/png": "[encoded data removed]",
      "text/plain": [
       "<Figure size 3456x57.6 with 120 Axes>"
      ]
     },
     "metadata": {
      "needs_background": "light"
     },
     "output_type": "display_data"
    },
    {
     "name": "stdout",
     "output_type": "stream",
     "text": [
      "Cluster label:  3 Cluster size:  48\n"
     ]
    },
    {
     "data": {
      "image/png": "[encoded data removed]",
      "text/plain": [
       "<Figure size 3456x57.6 with 120 Axes>"
      ]
     },
     "metadata": {
      "needs_background": "light"
     },
     "output_type": "display_data"
    },
    {
     "name": "stdout",
     "output_type": "stream",
     "text": [
      "Cluster label:  4 Cluster size:  1\n"
     ]
    },
    {
     "data": {
      "image/png": "[encoded data removed]",
      "text/plain": [
       "<Figure size 3456x57.6 with 4 Axes>"
      ]
     },
     "metadata": {
      "needs_background": "light"
     },
     "output_type": "display_data"
    },
    {
     "data": {
      "image/png": "[encoded data removed]",
      "text/plain": [
       "<Figure size 288x360 with 4 Axes>"
      ]
     },
     "metadata": {
      "needs_background": "light"
     },
     "output_type": "display_data"
    }
   ],
   "source": [
    "# Visualize the clustered weights to examine them by eyes.\n",
    "\n",
    "importlib.reload(hpfn)\n",
    "\n",
    "K = 12\n",
    "n_sample = 30 # the largest number of sample weights to show for each cluster\n",
    "mask_d = opsg.get_disk_mask(K, 4)\n",
    "if has_inhibition:\n",
    "    colormap_e = LinearSegmentedColormap.from_list('wr', ['w', 'r'], N=256)\n",
    "else:\n",
    "    colormap_e = LinearSegmentedColormap.from_list('bwr', ['b', 'w', 'r'], N=256)\n",
    "colormap_i = LinearSegmentedColormap.from_list('wb', ['w', 'b'], N=256)\n",
    "for label in range(1, NC+1):\n",
    "    print('Cluster label: ', label, 'Cluster size: ', (C==label).sum())\n",
    "    sample_array = np.where(C==label)[0]\n",
    "    sample_list = list(sample_array[:n_sample])\n",
    "    fig = hpfn.display_weights(K, trained_weights_e_all, trained_weights_i_all, has_inhibition, sample_list, n_sample, mask_d, colormap_e, colormap_i)\n",
    "    filename = save_path+'trained_filters/filters_M{}_{}.pdf'.format(M, label)\n",
    "    fig.savefig(filename, bbox_inches='tight')\n",
    "    \n",
    "    \n",
    "# check left and right half of the filters\n",
    "left_right_compare = np.zeros(len(C))\n",
    "left_right_compare_unique = np.zeros(NC)\n",
    "fig = plt.figure(figsize=(NC, 5))\n",
    "gs0 = gridspec.GridSpec(1, NC, figure=fig)\n",
    "for label in range(1, NC+1):\n",
    "    sample_array = np.where(C==label)[0]\n",
    "    sample_list = list(sample_array[:])\n",
    "    for sample in sample_list:\n",
    "        trained_weight_e = trained_weights_e_all[sample].reshape((K, K))\n",
    "        trained_weight_e[mask_d] = 0\n",
    "        trained_weight_e[trained_weight_e<1e-3] = 0\n",
    "        trained_weight_e_left = (trained_weight_e[:, :6]>1e-4).sum()\n",
    "        trained_weight_e_right = (trained_weight_e[:, 6:]>1e-4).sum()\n",
    "#         trained_weight_e_left = trained_weight_e[:, :6].sum()\n",
    "#         trained_weight_e_right = trained_weight_e[:, 6:].sum()\n",
    "        if trained_weight_e_left == trained_weight_e_right:\n",
    "            left_right_compare[sample] = -1\n",
    "        elif trained_weight_e_left < trained_weight_e_right:\n",
    "            left_right_compare[sample] = 1\n",
    "        elif trained_weight_e_left > trained_weight_e_right:\n",
    "            left_right_compare[sample] = 0\n",
    "        ax = fig.add_subplot(gs0[0, label-1])\n",
    "        ax.plot([1, 2], [trained_weight_e_left, trained_weight_e_right], 'o-')\n",
    "        ax.set_title(label)\n",
    "    left_right_compare_unique[label-1] = np.round(left_right_compare[sample_list].mean())"
   ]
  },
  {
   "cell_type": "code",
   "execution_count": 356,
   "metadata": {},
   "outputs": [
    {
     "name": "stdout",
     "output_type": "stream",
     "text": [
      "Outward: 48\n",
      "Inward: 39\n",
      "Unstructured: 113\n"
     ]
    }
   ],
   "source": [
    "# Check the model cluster size: 1--outward, 0--inward, -1--unstructured\n",
    "\n",
    "print(f'Outward: {(left_right_compare == 1).sum()}')\n",
    "print(f'Inward: {(left_right_compare == 0).sum()}')\n",
    "print(f'Unstructured: {(left_right_compare == -1).sum()}')"
   ]
  },
  {
   "cell_type": "code",
   "execution_count": 357,
   "metadata": {},
   "outputs": [],
   "source": [
    "# 'm': outward; 'g': inward; 'k': others/unstructured\n",
    "\n",
    "color_dict_tem = {}\n",
    "color_dict_tem[1] = 'm'\n",
    "color_dict_tem[0] = 'g'\n",
    "color_dict_tem[-1] = 'k'\n",
    "\n",
    "color_list = [color_dict_tem[ii] for ii in list(left_right_compare)]\n",
    "color_list_unique = [color_dict_tem[ii] for ii in list(left_right_compare_unique)]\n",
    "# print(color_list)\n",
    "# print(color_list_unique)"
   ]
  },
  {
   "cell_type": "code",
   "execution_count": 358,
   "metadata": {},
   "outputs": [
    {
     "name": "stdout",
     "output_type": "stream",
     "text": [
      "The M value is:  4\n",
      "Total cases are:  200\n",
      "The number of outward cases are:  48\n",
      "The number of inward cases are:  39\n"
     ]
    }
   ],
   "source": [
    "# save the clustering results\n",
    "\n",
    "# trained weights for clustering\n",
    "filename = save_path+'clusterings/trained_weights_all_c_M{}'.format(M)\n",
    "np.save(filename, trained_weights_all_c)\n",
    "\n",
    "# hierarchical linkage\n",
    "filename = save_path+'clusterings/Z_M{}'.format(M)\n",
    "np.save(filename, Z)\n",
    "\n",
    "# clusters\n",
    "filename = save_path+'clusterings/C_M{}'.format(M)\n",
    "np.save(filename, C)\n",
    "\n",
    "# color list\n",
    "filename = save_path+'clusterings/color_list_M{}'.format(M)\n",
    "np.save(filename, color_list)\n",
    "\n",
    "# color list unique\n",
    "filename = save_path+'clusterings/color_list_unique_M{}'.format(M)\n",
    "np.save(filename, color_list_unique)\n",
    "\n",
    "# label dict\n",
    "label_dict = {}\n",
    "label_dict['m'] = []\n",
    "label_dict['g'] = []\n",
    "label_dict['k'] = []\n",
    "for jj in range(len(C)):\n",
    "    if color_list[jj] == 'm':\n",
    "        label_dict['m'].append(jj)\n",
    "    elif color_list[jj] == 'g':\n",
    "        label_dict['g'].append(jj)\n",
    "    elif color_list[jj] == 'k':\n",
    "        label_dict['k'].append(jj)\n",
    "filename = save_path+'clusterings/label_dict_M{}'.format(M)\n",
    "np.save(filename, label_dict)\n",
    "\n",
    "# the cluster size\n",
    "total_cases = len(C)\n",
    "outward_cases = len(label_dict['m'])\n",
    "inward_cases = len(label_dict['g'])\n",
    "cluster_size = np.array([M, total_cases, outward_cases, inward_cases])\n",
    "filename = save_path+'clusterings/cluster_size_M{}'.format(M)\n",
    "np.save(filename, cluster_size)\n",
    "print('The M value is: ', M)\n",
    "print('Total cases are: ', total_cases)\n",
    "print('The number of outward cases are: ', outward_cases)\n",
    "print('The number of inward cases are: ', inward_cases)\n",
    "\n",
    "# model folders\n",
    "model_folders_outward = []\n",
    "model_folders_inward = []\n",
    "model_folders_others = []\n",
    "for jj in range(len(C)):\n",
    "    if color_list[jj] == 'm':\n",
    "        model_folders_outward.append(subdir_all[jj])\n",
    "    elif color_list[jj] == 'g':\n",
    "        model_folders_inward.append(subdir_all[jj])\n",
    "    elif color_list[jj] == 'k':\n",
    "        model_folders_others.append(subdir_all[jj])\n",
    "model_folders = [model_folders_outward, model_folders_inward, model_folders_others]\n",
    "filename = save_path+'clusterings/model_folders_M{}'.format(M)\n",
    "np.save(filename, model_folders)"
   ]
  },
  {
   "cell_type": "code",
   "execution_count": 359,
   "metadata": {},
   "outputs": [
    {
     "name": "stdout",
     "output_type": "stream",
     "text": [
      "/Volumes/Baohua/research_large_files/multi_lplc2_training_D5_exp/M_4/lr_0.001/regu_0.0001/seed_100_20210624171618\n",
      "/Volumes/Baohua/research_large_files/multi_lplc2_training_D5_exp/M_4/lr_0.001/regu_0.0001/seed_101_20210626032928\n",
      "/Volumes/Baohua/research_large_files/multi_lplc2_training_D5_exp/M_4/lr_0.001/regu_0.0001/seed_104_20210626032928\n",
      "/Volumes/Baohua/research_large_files/multi_lplc2_training_D5_exp/M_4/lr_0.001/regu_0.0001/seed_105_20210626032928\n",
      "/Volumes/Baohua/research_large_files/multi_lplc2_training_D5_exp/M_4/lr_0.001/regu_0.0001/seed_106_20210626032928\n",
      "/Volumes/Baohua/research_large_files/multi_lplc2_training_D5_exp/M_4/lr_0.001/regu_0.0001/seed_107_20210626032928\n",
      "/Volumes/Baohua/research_large_files/multi_lplc2_training_D5_exp/M_4/lr_0.001/regu_0.0001/seed_109_20210626032928\n",
      "/Volumes/Baohua/research_large_files/multi_lplc2_training_D5_exp/M_4/lr_0.001/regu_0.0001/seed_10_20210624155100\n",
      "/Volumes/Baohua/research_large_files/multi_lplc2_training_D5_exp/M_4/lr_0.001/regu_0.0001/seed_110_20210626032928\n",
      "/Volumes/Baohua/research_large_files/multi_lplc2_training_D5_exp/M_4/lr_0.001/regu_0.0001/seed_111_20210626032928\n",
      "/Volumes/Baohua/research_large_files/multi_lplc2_training_D5_exp/M_4/lr_0.001/regu_0.0001/seed_114_20210626032928\n",
      "/Volumes/Baohua/research_large_files/multi_lplc2_training_D5_exp/M_4/lr_0.001/regu_0.0001/seed_116_20210626032928\n",
      "/Volumes/Baohua/research_large_files/multi_lplc2_training_D5_exp/M_4/lr_0.001/regu_0.0001/seed_117_20210626032928\n",
      "/Volumes/Baohua/research_large_files/multi_lplc2_training_D5_exp/M_4/lr_0.001/regu_0.0001/seed_120_20210626032928\n",
      "/Volumes/Baohua/research_large_files/multi_lplc2_training_D5_exp/M_4/lr_0.001/regu_0.0001/seed_122_20210626032928\n",
      "/Volumes/Baohua/research_large_files/multi_lplc2_training_D5_exp/M_4/lr_0.001/regu_0.0001/seed_125_20210626032928\n",
      "/Volumes/Baohua/research_large_files/multi_lplc2_training_D5_exp/M_4/lr_0.001/regu_0.0001/seed_126_20210626032928\n",
      "/Volumes/Baohua/research_large_files/multi_lplc2_training_D5_exp/M_4/lr_0.001/regu_0.0001/seed_127_20210626032928\n",
      "/Volumes/Baohua/research_large_files/multi_lplc2_training_D5_exp/M_4/lr_0.001/regu_0.0001/seed_131_20210626035254\n",
      "/Volumes/Baohua/research_large_files/multi_lplc2_training_D5_exp/M_4/lr_0.001/regu_0.0001/seed_133_20210626035419\n",
      "/Volumes/Baohua/research_large_files/multi_lplc2_training_D5_exp/M_4/lr_0.001/regu_0.0001/seed_134_20210626035507\n",
      "/Volumes/Baohua/research_large_files/multi_lplc2_training_D5_exp/M_4/lr_0.001/regu_0.0001/seed_137_20210626035749\n",
      "/Volumes/Baohua/research_large_files/multi_lplc2_training_D5_exp/M_4/lr_0.001/regu_0.0001/seed_13_20210624155100\n",
      "/Volumes/Baohua/research_large_files/multi_lplc2_training_D5_exp/M_4/lr_0.001/regu_0.0001/seed_140_20210626035859\n",
      "/Volumes/Baohua/research_large_files/multi_lplc2_training_D5_exp/M_4/lr_0.001/regu_0.0001/seed_141_20210626035900\n",
      "/Volumes/Baohua/research_large_files/multi_lplc2_training_D5_exp/M_4/lr_0.001/regu_0.0001/seed_143_20210626035902\n",
      "/Volumes/Baohua/research_large_files/multi_lplc2_training_D5_exp/M_4/lr_0.001/regu_0.0001/seed_144_20210626035906\n",
      "/Volumes/Baohua/research_large_files/multi_lplc2_training_D5_exp/M_4/lr_0.001/regu_0.0001/seed_145_20210626035907\n",
      "/Volumes/Baohua/research_large_files/multi_lplc2_training_D5_exp/M_4/lr_0.001/regu_0.0001/seed_146_20210626035913\n",
      "/Volumes/Baohua/research_large_files/multi_lplc2_training_D5_exp/M_4/lr_0.001/regu_0.0001/seed_147_20210626035914\n",
      "/Volumes/Baohua/research_large_files/multi_lplc2_training_D5_exp/M_4/lr_0.001/regu_0.0001/seed_148_20210626035921\n",
      "/Volumes/Baohua/research_large_files/multi_lplc2_training_D5_exp/M_4/lr_0.001/regu_0.0001/seed_14_20210624155100\n",
      "/Volumes/Baohua/research_large_files/multi_lplc2_training_D5_exp/M_4/lr_0.001/regu_0.0001/seed_152_20210626035940\n",
      "/Volumes/Baohua/research_large_files/multi_lplc2_training_D5_exp/M_4/lr_0.001/regu_0.0001/seed_155_20210626035954\n",
      "/Volumes/Baohua/research_large_files/multi_lplc2_training_D5_exp/M_4/lr_0.001/regu_0.0001/seed_156_20210626035957\n",
      "/Volumes/Baohua/research_large_files/multi_lplc2_training_D5_exp/M_4/lr_0.001/regu_0.0001/seed_159_20210626040018\n",
      "/Volumes/Baohua/research_large_files/multi_lplc2_training_D5_exp/M_4/lr_0.001/regu_0.0001/seed_15_20210624155100\n",
      "/Volumes/Baohua/research_large_files/multi_lplc2_training_D5_exp/M_4/lr_0.001/regu_0.0001/seed_160_20210626040021\n",
      "/Volumes/Baohua/research_large_files/multi_lplc2_training_D5_exp/M_4/lr_0.001/regu_0.0001/seed_161_20210626041559\n",
      "/Volumes/Baohua/research_large_files/multi_lplc2_training_D5_exp/M_4/lr_0.001/regu_0.0001/seed_163_20210626041739\n",
      "/Volumes/Baohua/research_large_files/multi_lplc2_training_D5_exp/M_4/lr_0.001/regu_0.0001/seed_164_20210626042312\n",
      "/Volumes/Baohua/research_large_files/multi_lplc2_training_D5_exp/M_4/lr_0.001/regu_0.0001/seed_168_20210626042635\n",
      "/Volumes/Baohua/research_large_files/multi_lplc2_training_D5_exp/M_4/lr_0.001/regu_0.0001/seed_16_20210624155100\n",
      "/Volumes/Baohua/research_large_files/multi_lplc2_training_D5_exp/M_4/lr_0.001/regu_0.0001/seed_170_20210626042711\n",
      "/Volumes/Baohua/research_large_files/multi_lplc2_training_D5_exp/M_4/lr_0.001/regu_0.0001/seed_171_20210626042746\n",
      "/Volumes/Baohua/research_large_files/multi_lplc2_training_D5_exp/M_4/lr_0.001/regu_0.0001/seed_172_20210626042830\n",
      "/Volumes/Baohua/research_large_files/multi_lplc2_training_D5_exp/M_4/lr_0.001/regu_0.0001/seed_174_20210626042850\n",
      "/Volumes/Baohua/research_large_files/multi_lplc2_training_D5_exp/M_4/lr_0.001/regu_0.0001/seed_175_20210626042901\n",
      "/Volumes/Baohua/research_large_files/multi_lplc2_training_D5_exp/M_4/lr_0.001/regu_0.0001/seed_176_20210626042911\n",
      "/Volumes/Baohua/research_large_files/multi_lplc2_training_D5_exp/M_4/lr_0.001/regu_0.0001/seed_177_20210626042916\n",
      "/Volumes/Baohua/research_large_files/multi_lplc2_training_D5_exp/M_4/lr_0.001/regu_0.0001/seed_178_20210626042918\n",
      "/Volumes/Baohua/research_large_files/multi_lplc2_training_D5_exp/M_4/lr_0.001/regu_0.0001/seed_179_20210626042928\n",
      "/Volumes/Baohua/research_large_files/multi_lplc2_training_D5_exp/M_4/lr_0.001/regu_0.0001/seed_17_20210624155100\n",
      "/Volumes/Baohua/research_large_files/multi_lplc2_training_D5_exp/M_4/lr_0.001/regu_0.0001/seed_181_20210626042936\n",
      "/Volumes/Baohua/research_large_files/multi_lplc2_training_D5_exp/M_4/lr_0.001/regu_0.0001/seed_182_20210626042943\n",
      "/Volumes/Baohua/research_large_files/multi_lplc2_training_D5_exp/M_4/lr_0.001/regu_0.0001/seed_183_20210626042944\n",
      "/Volumes/Baohua/research_large_files/multi_lplc2_training_D5_exp/M_4/lr_0.001/regu_0.0001/seed_185_20210626042955\n",
      "/Volumes/Baohua/research_large_files/multi_lplc2_training_D5_exp/M_4/lr_0.001/regu_0.0001/seed_186_20210626043003\n",
      "/Volumes/Baohua/research_large_files/multi_lplc2_training_D5_exp/M_4/lr_0.001/regu_0.0001/seed_191_20210626043908\n",
      "/Volumes/Baohua/research_large_files/multi_lplc2_training_D5_exp/M_4/lr_0.001/regu_0.0001/seed_194_20210626044705\n",
      "/Volumes/Baohua/research_large_files/multi_lplc2_training_D5_exp/M_4/lr_0.001/regu_0.0001/seed_195_20210626045048\n",
      "/Volumes/Baohua/research_large_files/multi_lplc2_training_D5_exp/M_4/lr_0.001/regu_0.0001/seed_196_20210626045412\n",
      "/Volumes/Baohua/research_large_files/multi_lplc2_training_D5_exp/M_4/lr_0.001/regu_0.0001/seed_197_20210626045430\n",
      "/Volumes/Baohua/research_large_files/multi_lplc2_training_D5_exp/M_4/lr_0.001/regu_0.0001/seed_1_20210624155100\n",
      "/Volumes/Baohua/research_large_files/multi_lplc2_training_D5_exp/M_4/lr_0.001/regu_0.0001/seed_200_20210626045547\n",
      "/Volumes/Baohua/research_large_files/multi_lplc2_training_D5_exp/M_4/lr_0.001/regu_0.0001/seed_21_20210624155100\n",
      "/Volumes/Baohua/research_large_files/multi_lplc2_training_D5_exp/M_4/lr_0.001/regu_0.0001/seed_22_20210624155100\n",
      "/Volumes/Baohua/research_large_files/multi_lplc2_training_D5_exp/M_4/lr_0.001/regu_0.0001/seed_23_20210624155100\n",
      "/Volumes/Baohua/research_large_files/multi_lplc2_training_D5_exp/M_4/lr_0.001/regu_0.0001/seed_24_20210624155101\n",
      "/Volumes/Baohua/research_large_files/multi_lplc2_training_D5_exp/M_4/lr_0.001/regu_0.0001/seed_25_20210624155100\n",
      "/Volumes/Baohua/research_large_files/multi_lplc2_training_D5_exp/M_4/lr_0.001/regu_0.0001/seed_26_20210624155101\n",
      "/Volumes/Baohua/research_large_files/multi_lplc2_training_D5_exp/M_4/lr_0.001/regu_0.0001/seed_27_20210624155100\n",
      "/Volumes/Baohua/research_large_files/multi_lplc2_training_D5_exp/M_4/lr_0.001/regu_0.0001/seed_28_20210624155100\n",
      "/Volumes/Baohua/research_large_files/multi_lplc2_training_D5_exp/M_4/lr_0.001/regu_0.0001/seed_2_20210624155100\n",
      "/Volumes/Baohua/research_large_files/multi_lplc2_training_D5_exp/M_4/lr_0.001/regu_0.0001/seed_30_20210624155100\n",
      "/Volumes/Baohua/research_large_files/multi_lplc2_training_D5_exp/M_4/lr_0.001/regu_0.0001/seed_33_20210624161634\n",
      "/Volumes/Baohua/research_large_files/multi_lplc2_training_D5_exp/M_4/lr_0.001/regu_0.0001/seed_34_20210624161635\n",
      "/Volumes/Baohua/research_large_files/multi_lplc2_training_D5_exp/M_4/lr_0.001/regu_0.0001/seed_40_20210624161911\n",
      "/Volumes/Baohua/research_large_files/multi_lplc2_training_D5_exp/M_4/lr_0.001/regu_0.0001/seed_41_20210624161920\n",
      "/Volumes/Baohua/research_large_files/multi_lplc2_training_D5_exp/M_4/lr_0.001/regu_0.0001/seed_42_20210624161934\n",
      "/Volumes/Baohua/research_large_files/multi_lplc2_training_D5_exp/M_4/lr_0.001/regu_0.0001/seed_43_20210624161941\n",
      "/Volumes/Baohua/research_large_files/multi_lplc2_training_D5_exp/M_4/lr_0.001/regu_0.0001/seed_44_20210624161941\n",
      "/Volumes/Baohua/research_large_files/multi_lplc2_training_D5_exp/M_4/lr_0.001/regu_0.0001/seed_45_20210624161943\n",
      "/Volumes/Baohua/research_large_files/multi_lplc2_training_D5_exp/M_4/lr_0.001/regu_0.0001/seed_46_20210624161944\n",
      "/Volumes/Baohua/research_large_files/multi_lplc2_training_D5_exp/M_4/lr_0.001/regu_0.0001/seed_47_20210624161947\n",
      "/Volumes/Baohua/research_large_files/multi_lplc2_training_D5_exp/M_4/lr_0.001/regu_0.0001/seed_4_20210624155100\n",
      "/Volumes/Baohua/research_large_files/multi_lplc2_training_D5_exp/M_4/lr_0.001/regu_0.0001/seed_51_20210624161958\n",
      "/Volumes/Baohua/research_large_files/multi_lplc2_training_D5_exp/M_4/lr_0.001/regu_0.0001/seed_55_20210624162006\n",
      "/Volumes/Baohua/research_large_files/multi_lplc2_training_D5_exp/M_4/lr_0.001/regu_0.0001/seed_56_20210624162009\n",
      "/Volumes/Baohua/research_large_files/multi_lplc2_training_D5_exp/M_4/lr_0.001/regu_0.0001/seed_58_20210624162010\n",
      "/Volumes/Baohua/research_large_files/multi_lplc2_training_D5_exp/M_4/lr_0.001/regu_0.0001/seed_5_20210624155100\n",
      "/Volumes/Baohua/research_large_files/multi_lplc2_training_D5_exp/M_4/lr_0.001/regu_0.0001/seed_60_20210624162023\n",
      "/Volumes/Baohua/research_large_files/multi_lplc2_training_D5_exp/M_4/lr_0.001/regu_0.0001/seed_61_20210624164158\n",
      "/Volumes/Baohua/research_large_files/multi_lplc2_training_D5_exp/M_4/lr_0.001/regu_0.0001/seed_62_20210624164203\n",
      "/Volumes/Baohua/research_large_files/multi_lplc2_training_D5_exp/M_4/lr_0.001/regu_0.0001/seed_68_20210624164318\n",
      "/Volumes/Baohua/research_large_files/multi_lplc2_training_D5_exp/M_4/lr_0.001/regu_0.0001/seed_70_20210624164742\n",
      "/Volumes/Baohua/research_large_files/multi_lplc2_training_D5_exp/M_4/lr_0.001/regu_0.0001/seed_71_20210624164753\n",
      "/Volumes/Baohua/research_large_files/multi_lplc2_training_D5_exp/M_4/lr_0.001/regu_0.0001/seed_72_20210624164755\n",
      "/Volumes/Baohua/research_large_files/multi_lplc2_training_D5_exp/M_4/lr_0.001/regu_0.0001/seed_73_20210624164805\n",
      "/Volumes/Baohua/research_large_files/multi_lplc2_training_D5_exp/M_4/lr_0.001/regu_0.0001/seed_74_20210624164811\n",
      "/Volumes/Baohua/research_large_files/multi_lplc2_training_D5_exp/M_4/lr_0.001/regu_0.0001/seed_75_20210624164817\n",
      "/Volumes/Baohua/research_large_files/multi_lplc2_training_D5_exp/M_4/lr_0.001/regu_0.0001/seed_79_20210624164830\n",
      "/Volumes/Baohua/research_large_files/multi_lplc2_training_D5_exp/M_4/lr_0.001/regu_0.0001/seed_7_20210624155100\n",
      "/Volumes/Baohua/research_large_files/multi_lplc2_training_D5_exp/M_4/lr_0.001/regu_0.0001/seed_82_20210624164846\n",
      "/Volumes/Baohua/research_large_files/multi_lplc2_training_D5_exp/M_4/lr_0.001/regu_0.0001/seed_84_20210624164851\n",
      "/Volumes/Baohua/research_large_files/multi_lplc2_training_D5_exp/M_4/lr_0.001/regu_0.0001/seed_89_20210624164928\n",
      "/Volumes/Baohua/research_large_files/multi_lplc2_training_D5_exp/M_4/lr_0.001/regu_0.0001/seed_8_20210624155100\n",
      "/Volumes/Baohua/research_large_files/multi_lplc2_training_D5_exp/M_4/lr_0.001/regu_0.0001/seed_91_20210624170719\n",
      "/Volumes/Baohua/research_large_files/multi_lplc2_training_D5_exp/M_4/lr_0.001/regu_0.0001/seed_92_20210624170751\n",
      "/Volumes/Baohua/research_large_files/multi_lplc2_training_D5_exp/M_4/lr_0.001/regu_0.0001/seed_93_20210624170800\n",
      "/Volumes/Baohua/research_large_files/multi_lplc2_training_D5_exp/M_4/lr_0.001/regu_0.0001/seed_97_20210624170903\n",
      "/Volumes/Baohua/research_large_files/multi_lplc2_training_D5_exp/M_4/lr_0.001/regu_0.0001/seed_98_20210624170940\n"
     ]
    }
   ],
   "source": [
    "# model folders\n",
    "model_folders_outward = []\n",
    "model_folders_inward = []\n",
    "model_folders_others = []\n",
    "for jj in range(len(C)):\n",
    "    if color_list[jj] == 'm':\n",
    "        model_folders_outward.append(subdir_all[jj])\n",
    "    elif color_list[jj] == 'g':\n",
    "        model_folders_inward.append(subdir_all[jj])\n",
    "    elif color_list[jj] == 'k':\n",
    "        model_folders_others.append(subdir_all[jj])\n",
    "    if C[jj] == 2:\n",
    "        print(subdir_all[jj])"
   ]
  },
  {
   "cell_type": "code",
   "execution_count": 360,
   "metadata": {},
   "outputs": [],
   "source": [
    "# save the auc scores\n",
    "auc_scores_outward = auc_scores[label_dict['m'], :]\n",
    "auc_scores_inward = auc_scores[label_dict['g'], :]\n",
    "filename = save_path+'auc_scores/auc_scores_M{}'.format(M)\n",
    "np.save(filename, auc_scores)\n",
    "filename = save_path+'auc_scores/auc_scores_outward_M{}'.format(M)\n",
    "np.save(filename, auc_scores_outward)\n",
    "filename = save_path+'auc_scores/auc_scores_inward_M{}'.format(M)\n",
    "np.save(filename, auc_scores_inward)\n",
    "\n",
    "# save the y scores\n",
    "y_scores_outward = y_scores[label_dict['m'], :]\n",
    "y_scores_inward = y_scores[label_dict['g'], :]\n",
    "filename = save_path+'auc_scores/y_scores_M{}'.format(M)\n",
    "np.save(filename, y_scores)\n",
    "filename = save_path+'auc_scores/y_scores_outward_M{}'.format(M)\n",
    "np.save(filename, y_scores_outward)\n",
    "filename = save_path+'auc_scores/y_scores_inward_M{}'.format(M)\n",
    "np.save(filename, y_scores_inward)\n",
    "\n",
    "# save the y trues\n",
    "y_trues_outward = y_trues[label_dict['m'], :]\n",
    "y_trues_inward = y_trues[label_dict['g'], :]\n",
    "filename = save_path+'auc_scores/y_trues_M{}'.format(M)\n",
    "np.save(filename, y_trues)\n",
    "filename = save_path+'auc_scores/y_trues_outward_M{}'.format(M)\n",
    "np.save(filename, y_trues_outward)\n",
    "filename = save_path+'auc_scores/y_trues_inward_M{}'.format(M)\n",
    "np.save(filename, y_trues_inward)"
   ]
  },
  {
   "cell_type": "code",
   "execution_count": null,
   "metadata": {},
   "outputs": [],
   "source": []
  }
 ],
 "metadata": {
  "kernelspec": {
   "display_name": "Python 3",
   "language": "python",
   "name": "python3"
  },
  "language_info": {
   "codemirror_mode": {
    "name": "ipython",
    "version": 3
   },
   "file_extension": ".py",
   "mimetype": "text/x-python",
   "name": "python",
   "nbconvert_exporter": "python",
   "pygments_lexer": "ipython3",
   "version": "3.7.4"
  }
 },
 "nbformat": 4,
 "nbformat_minor": 4
}
